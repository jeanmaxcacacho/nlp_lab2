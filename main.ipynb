{
 "cells": [
  {
   "cell_type": "code",
   "execution_count": 46,
   "metadata": {},
   "outputs": [],
   "source": [
    "import pandas as pd\n",
    "import torch\n",
    "import torch.nn as nn\n",
    "import numpy as np\n",
    "import math\n",
    "from torch.utils.data import Dataset\n",
    "from torch.utils.data import DataLoader\n",
    "from tqdm import tqdm\n",
    "from sklearn.metrics import confusion_matrix"
   ]
  },
  {
   "cell_type": "code",
   "execution_count": 47,
   "metadata": {},
   "outputs": [],
   "source": [
    "DEVICE = \"cpu\""
   ]
  },
  {
   "cell_type": "code",
   "execution_count": 48,
   "metadata": {},
   "outputs": [
    {
     "data": {
      "text/html": [
       "<div>\n",
       "<style scoped>\n",
       "    .dataframe tbody tr th:only-of-type {\n",
       "        vertical-align: middle;\n",
       "    }\n",
       "\n",
       "    .dataframe tbody tr th {\n",
       "        vertical-align: top;\n",
       "    }\n",
       "\n",
       "    .dataframe thead th {\n",
       "        text-align: right;\n",
       "    }\n",
       "</style>\n",
       "<table border=\"1\" class=\"dataframe\">\n",
       "  <thead>\n",
       "    <tr style=\"text-align: right;\">\n",
       "      <th></th>\n",
       "      <th>x0</th>\n",
       "      <th>x1</th>\n",
       "      <th>x2</th>\n",
       "      <th>x3</th>\n",
       "      <th>x4</th>\n",
       "      <th>x5</th>\n",
       "      <th>x6</th>\n",
       "      <th>x7</th>\n",
       "      <th>x8</th>\n",
       "      <th>x9</th>\n",
       "      <th>...</th>\n",
       "      <th>x1514</th>\n",
       "      <th>x1515</th>\n",
       "      <th>x1516</th>\n",
       "      <th>x1517</th>\n",
       "      <th>x1518</th>\n",
       "      <th>x1519</th>\n",
       "      <th>x1520</th>\n",
       "      <th>x1521</th>\n",
       "      <th>y0</th>\n",
       "      <th>y1</th>\n",
       "    </tr>\n",
       "  </thead>\n",
       "  <tbody>\n",
       "    <tr>\n",
       "      <th>0</th>\n",
       "      <td>6119</td>\n",
       "      <td>13074</td>\n",
       "      <td>19176</td>\n",
       "      <td>15352</td>\n",
       "      <td>15816</td>\n",
       "      <td>6625</td>\n",
       "      <td>8335</td>\n",
       "      <td>479</td>\n",
       "      <td>1636</td>\n",
       "      <td>6347</td>\n",
       "      <td>...</td>\n",
       "      <td>13620</td>\n",
       "      <td>13620</td>\n",
       "      <td>13620</td>\n",
       "      <td>13620</td>\n",
       "      <td>13620</td>\n",
       "      <td>13620</td>\n",
       "      <td>13620</td>\n",
       "      <td>13620</td>\n",
       "      <td>1</td>\n",
       "      <td>0</td>\n",
       "    </tr>\n",
       "    <tr>\n",
       "      <th>1</th>\n",
       "      <td>6119</td>\n",
       "      <td>13869</td>\n",
       "      <td>10751</td>\n",
       "      <td>18110</td>\n",
       "      <td>8296</td>\n",
       "      <td>19019</td>\n",
       "      <td>17036</td>\n",
       "      <td>17036</td>\n",
       "      <td>6119</td>\n",
       "      <td>15352</td>\n",
       "      <td>...</td>\n",
       "      <td>13620</td>\n",
       "      <td>13620</td>\n",
       "      <td>13620</td>\n",
       "      <td>13620</td>\n",
       "      <td>13620</td>\n",
       "      <td>13620</td>\n",
       "      <td>13620</td>\n",
       "      <td>13620</td>\n",
       "      <td>1</td>\n",
       "      <td>0</td>\n",
       "    </tr>\n",
       "    <tr>\n",
       "      <th>2</th>\n",
       "      <td>6119</td>\n",
       "      <td>14532</td>\n",
       "      <td>16234</td>\n",
       "      <td>1933</td>\n",
       "      <td>5839</td>\n",
       "      <td>13869</td>\n",
       "      <td>10751</td>\n",
       "      <td>2378</td>\n",
       "      <td>17997</td>\n",
       "      <td>6255</td>\n",
       "      <td>...</td>\n",
       "      <td>13620</td>\n",
       "      <td>13620</td>\n",
       "      <td>13620</td>\n",
       "      <td>13620</td>\n",
       "      <td>13620</td>\n",
       "      <td>13620</td>\n",
       "      <td>13620</td>\n",
       "      <td>13620</td>\n",
       "      <td>1</td>\n",
       "      <td>0</td>\n",
       "    </tr>\n",
       "    <tr>\n",
       "      <th>3</th>\n",
       "      <td>6119</td>\n",
       "      <td>13457</td>\n",
       "      <td>11703</td>\n",
       "      <td>18341</td>\n",
       "      <td>13869</td>\n",
       "      <td>14317</td>\n",
       "      <td>17787</td>\n",
       "      <td>13869</td>\n",
       "      <td>18110</td>\n",
       "      <td>7915</td>\n",
       "      <td>...</td>\n",
       "      <td>13620</td>\n",
       "      <td>13620</td>\n",
       "      <td>13620</td>\n",
       "      <td>13620</td>\n",
       "      <td>13620</td>\n",
       "      <td>13620</td>\n",
       "      <td>13620</td>\n",
       "      <td>13620</td>\n",
       "      <td>0</td>\n",
       "      <td>1</td>\n",
       "    </tr>\n",
       "    <tr>\n",
       "      <th>4</th>\n",
       "      <td>6119</td>\n",
       "      <td>11973</td>\n",
       "      <td>14650</td>\n",
       "      <td>18341</td>\n",
       "      <td>9152</td>\n",
       "      <td>18717</td>\n",
       "      <td>17360</td>\n",
       "      <td>15352</td>\n",
       "      <td>10268</td>\n",
       "      <td>19176</td>\n",
       "      <td>...</td>\n",
       "      <td>13620</td>\n",
       "      <td>13620</td>\n",
       "      <td>13620</td>\n",
       "      <td>13620</td>\n",
       "      <td>13620</td>\n",
       "      <td>13620</td>\n",
       "      <td>13620</td>\n",
       "      <td>13620</td>\n",
       "      <td>1</td>\n",
       "      <td>0</td>\n",
       "    </tr>\n",
       "  </tbody>\n",
       "</table>\n",
       "<p>5 rows × 1524 columns</p>\n",
       "</div>"
      ],
      "text/plain": [
       "     x0     x1     x2     x3     x4     x5     x6     x7     x8     x9  ...  \\\n",
       "0  6119  13074  19176  15352  15816   6625   8335    479   1636   6347  ...   \n",
       "1  6119  13869  10751  18110   8296  19019  17036  17036   6119  15352  ...   \n",
       "2  6119  14532  16234   1933   5839  13869  10751   2378  17997   6255  ...   \n",
       "3  6119  13457  11703  18341  13869  14317  17787  13869  18110   7915  ...   \n",
       "4  6119  11973  14650  18341   9152  18717  17360  15352  10268  19176  ...   \n",
       "\n",
       "   x1514  x1515  x1516  x1517  x1518  x1519  x1520  x1521  y0  y1  \n",
       "0  13620  13620  13620  13620  13620  13620  13620  13620   1   0  \n",
       "1  13620  13620  13620  13620  13620  13620  13620  13620   1   0  \n",
       "2  13620  13620  13620  13620  13620  13620  13620  13620   1   0  \n",
       "3  13620  13620  13620  13620  13620  13620  13620  13620   0   1  \n",
       "4  13620  13620  13620  13620  13620  13620  13620  13620   1   0  \n",
       "\n",
       "[5 rows x 1524 columns]"
      ]
     },
     "execution_count": 48,
     "metadata": {},
     "output_type": "execute_result"
    }
   ],
   "source": [
    "csv_file = 'dataset.csv'\n",
    "\n",
    "# read only 1000 reviews for speed\n",
    "df = pd.read_csv(csv_file, nrows=1_000, index_col=0)\n",
    "\n",
    "df.head()"
   ]
  },
  {
   "cell_type": "code",
   "execution_count": 49,
   "metadata": {},
   "outputs": [
    {
     "data": {
      "text/plain": [
       "19504"
      ]
     },
     "execution_count": 49,
     "metadata": {},
     "output_type": "execute_result"
    }
   ],
   "source": [
    "vocabulary_size = df.max().max() + 1\n",
    "vocabulary_size"
   ]
  },
  {
   "cell_type": "code",
   "execution_count": 50,
   "metadata": {},
   "outputs": [
    {
     "data": {
      "text/plain": [
       "(80, 1524)"
      ]
     },
     "execution_count": 50,
     "metadata": {},
     "output_type": "execute_result"
    }
   ],
   "source": [
    "positive_mask = df.y0 == 1\n",
    "negative_mask = df.y0 == 0\n",
    "\n",
    "positive_reviews = df[positive_mask]\n",
    "negative_reviews = df[negative_mask]\n",
    "\n",
    "## lets do 80:20 instead of 40:10\n",
    "train_count = 80 // 2\n",
    "test_count = 20 // 2\n",
    "\n",
    "train = pd.concat([positive_reviews.iloc[:train_count,:], negative_reviews.iloc[:train_count,:]])\n",
    "test = pd.concat([positive_reviews.iloc[train_count:train_count + test_count,:], negative_reviews.iloc[train_count:train_count + test_count,:]])\n",
    "train.shape"
   ]
  },
  {
   "cell_type": "code",
   "execution_count": 51,
   "metadata": {},
   "outputs": [
    {
     "data": {
      "text/plain": [
       "(20, 1524)"
      ]
     },
     "execution_count": 51,
     "metadata": {},
     "output_type": "execute_result"
    }
   ],
   "source": [
    "test.shape"
   ]
  },
  {
   "cell_type": "code",
   "execution_count": 52,
   "metadata": {},
   "outputs": [
    {
     "data": {
      "text/plain": [
       "(20, 2)"
      ]
     },
     "execution_count": 52,
     "metadata": {},
     "output_type": "execute_result"
    }
   ],
   "source": [
    "train_x, train_y = train.iloc[:,:-2], train.iloc[:,-2:]\n",
    "test_x, test_y = test.iloc[:,:-2], test.iloc[:,-2:]\n",
    "test_y.shape"
   ]
  },
  {
   "cell_type": "code",
   "execution_count": 53,
   "metadata": {},
   "outputs": [],
   "source": [
    "class TransformerModule(nn.Module):\n",
    "    def __init__(self, vocabulary_size, max_length, d_model):\n",
    "        super().__init__()\n",
    "        self.max_length = max_length\n",
    "        self.d_model = d_model\n",
    "\n",
    "        # apparently nn.Embedding should take vocabulary size as first argument\n",
    "        # if we pass a number greater than the first argument we get an IndexError\n",
    "        # in our dataset, the number of words greatly exceeds the length of the max sentence\n",
    "        # so max length is unfit to be first argument here\n",
    "        self.embedding = nn.Embedding(vocabulary_size, d_model)\n",
    "        self.relu = nn.ReLU()\n",
    "        self.softmax = nn.Softmax(dim=1)\n",
    "\n",
    "        global DEVICE\n",
    "        self.device = 'cpu'\n",
    "        if 'DEVICE' in globals():\n",
    "            self.device = DEVICE\n",
    "\n",
    "        self.V = nn.Parameter(torch.rand(max_length, d_model).to(self.device))\n",
    "\n",
    "    def gen_pe(self, n):\n",
    "        pe = np.zeros((self.max_length, self.d_model), dtype=np.float32)\n",
    "        for k in np.arange(self.max_length):\n",
    "            for i in np.arange(self.d_model):\n",
    "                theta = k / (n ** (i/self.d_model))\n",
    "                if i % 2 == 0:\n",
    "                    pe[k,i] = math.sin(theta)\n",
    "                else:\n",
    "                    pe[k,i] = math.cos(theta)\n",
    "        return pe\n",
    "    \n",
    "    def forward(self, x: torch.FloatTensor):\n",
    "        # x is a lookup tensor\n",
    "        initial_embeddings = self.relu(self.embedding(x))\n",
    "        positional_embeddings = torch.tensor(self.gen_pe(1000)).to(self.device)\n",
    "        \n",
    "        input_embeddings = torch.add(initial_embeddings, positional_embeddings)\n",
    "\n",
    "        _ = torch.matmul(input_embeddings, torch.transpose(input_embeddings, 0 , 1))\n",
    "        _ = torch.divide(_, math.sqrt(self.d_model))\n",
    "        _ = self.softmax(_)\n",
    "\n",
    "        return self.relu(torch.matmul(_,self.V))"
   ]
  },
  {
   "cell_type": "code",
   "execution_count": 70,
   "metadata": {},
   "outputs": [],
   "source": [
    "class ClassificationHead(nn.Module):\n",
    "    def __init__(self, embedding_length, head_length):\n",
    "        super().__init__()\n",
    "        self.embedding_length = embedding_length\n",
    "        self.head_length = head_length\n",
    "\n",
    "        self.output_layer = nn.Linear(self.embedding_length, self.head_length)\n",
    "    \n",
    "    def forward(self, x):\n",
    "        y = self.output_layer(x)\n",
    "\n",
    "        # no more sigmoid; we will use BCEWithLogitsLoss which uses a starting sigmoid layer and is more numerically stable\n",
    "        return y"
   ]
  },
  {
   "cell_type": "code",
   "execution_count": 71,
   "metadata": {},
   "outputs": [],
   "source": [
    "class Classifier(nn.Module):\n",
    "    def __init__(self, vocabulary_size, max_length, d_model, head_length):\n",
    "        super().__init__()\n",
    "        self.vocabulary_size = vocabulary_size\n",
    "        self.max_length = max_length\n",
    "        self.d_model = d_model\n",
    "        self.head_length = head_length\n",
    "        self.expected_unravel_length = max_length * d_model\n",
    "        \n",
    "        self.body = TransformerModule(self.vocabulary_size, self.max_length, self.d_model)\n",
    "        self.head = ClassificationHead(self.expected_unravel_length, self.head_length)\n",
    "\n",
    "    def forward(self, x):\n",
    "        x = self.body(x)\n",
    "        x = x.view(-1)\n",
    "        x = self.head(x)\n",
    "        # softmax removed; inherently applied by CE, and not applied by BCE\n",
    "        return x"
   ]
  },
  {
   "cell_type": "code",
   "execution_count": 79,
   "metadata": {},
   "outputs": [],
   "source": [
    "class MyCustomDataset(Dataset):\n",
    "    def __init__(self, x, y):\n",
    "        self.x = torch.Tensor(x)\n",
    "        self.y = torch.Tensor(y)\n",
    "        self.n_samples = len(x)\n",
    "    \n",
    "    def __getitem__(self, index):\n",
    "        return self.x[index], self.y[index]\n",
    "    \n",
    "    def __len__(self):\n",
    "        return self.n_samples\n",
    "\n",
    "custom_dataset = MyCustomDataset(train_x.values, train_y.values)\n",
    "\n",
    "loader = DataLoader(\n",
    "    custom_dataset,\n",
    "    batch_size = 5,\n",
    "    shuffle = True\n",
    ")"
   ]
  },
  {
   "cell_type": "code",
   "execution_count": 80,
   "metadata": {},
   "outputs": [],
   "source": [
    "def train_fn(loader, model, optimizer, loss_fn, device=\"cpu\"):\n",
    "    loop = tqdm(loader)\n",
    "\n",
    "    average_loss = 0\n",
    "    count = 0\n",
    "\n",
    "    for batch_idx, (data, targets) in enumerate(loop):\n",
    "        data = data.to(device=device).long()\n",
    "        targets = targets.to(device=device)\n",
    "        # print(data.shape)\n",
    "        # print(targets.shape)\n",
    "\n",
    "        for inst_idx in range(data.shape[0]):\n",
    "            # Forward\n",
    "            predictions = model.forward(data[inst_idx])\n",
    "            loss = loss_fn(predictions, targets[inst_idx])\n",
    "            # Backward\n",
    "            optimizer.zero_grad()\n",
    "\n",
    "            loss.backward()\n",
    "\n",
    "            optimizer.step()\n",
    "\n",
    "            # Update tqdm\n",
    "            loop.set_postfix(loss=loss.item())\n",
    "\n",
    "            average_loss += loss.item()\n",
    "            count += 1\n",
    "\n",
    "    average_loss = average_loss / count\n",
    "\n",
    "    return average_loss"
   ]
  },
  {
   "cell_type": "code",
   "execution_count": 81,
   "metadata": {},
   "outputs": [
    {
     "name": "stderr",
     "output_type": "stream",
     "text": [
      "  0%|          | 0/16 [00:00<?, ?it/s]"
     ]
    },
    {
     "name": "stderr",
     "output_type": "stream",
     "text": [
      "100%|██████████| 16/16 [00:21<00:00,  1.32s/it, loss=3.53]   \n"
     ]
    },
    {
     "name": "stdout",
     "output_type": "stream",
     "text": [
      "Epoch 1: 21.07241003876461\n"
     ]
    },
    {
     "name": "stderr",
     "output_type": "stream",
     "text": [
      "100%|██████████| 16/16 [00:22<00:00,  1.39s/it, loss=14.8]   \n"
     ]
    },
    {
     "name": "stdout",
     "output_type": "stream",
     "text": [
      "Epoch 2: 12.100481945992577\n"
     ]
    },
    {
     "name": "stderr",
     "output_type": "stream",
     "text": [
      "100%|██████████| 16/16 [00:20<00:00,  1.30s/it, loss=35.9]    \n"
     ]
    },
    {
     "name": "stdout",
     "output_type": "stream",
     "text": [
      "Epoch 3: 7.222106258306807\n"
     ]
    },
    {
     "name": "stderr",
     "output_type": "stream",
     "text": [
      "100%|██████████| 16/16 [00:20<00:00,  1.27s/it, loss=9.16]   \n"
     ]
    },
    {
     "name": "stdout",
     "output_type": "stream",
     "text": [
      "Epoch 4: 11.27949922601083\n"
     ]
    },
    {
     "name": "stderr",
     "output_type": "stream",
     "text": [
      "100%|██████████| 16/16 [00:20<00:00,  1.27s/it, loss=0]      \n"
     ]
    },
    {
     "name": "stdout",
     "output_type": "stream",
     "text": [
      "Epoch 5: 5.424119432189877\n"
     ]
    },
    {
     "name": "stderr",
     "output_type": "stream",
     "text": [
      "100%|██████████| 16/16 [00:20<00:00,  1.26s/it, loss=0]       \n"
     ]
    },
    {
     "name": "stdout",
     "output_type": "stream",
     "text": [
      "Epoch 6: 4.821735120186232\n"
     ]
    },
    {
     "name": "stderr",
     "output_type": "stream",
     "text": [
      "100%|██████████| 16/16 [00:20<00:00,  1.26s/it, loss=0.222]   \n"
     ]
    },
    {
     "name": "stdout",
     "output_type": "stream",
     "text": [
      "Epoch 7: 3.887200743908042\n"
     ]
    },
    {
     "name": "stderr",
     "output_type": "stream",
     "text": [
      "100%|██████████| 16/16 [00:20<00:00,  1.28s/it, loss=3.29]    \n"
     ]
    },
    {
     "name": "stdout",
     "output_type": "stream",
     "text": [
      "Epoch 8: 3.9672189953813275\n"
     ]
    },
    {
     "name": "stderr",
     "output_type": "stream",
     "text": [
      "100%|██████████| 16/16 [00:20<00:00,  1.27s/it, loss=3.08]    \n"
     ]
    },
    {
     "name": "stdout",
     "output_type": "stream",
     "text": [
      "Epoch 9: 3.3134499155608497\n"
     ]
    },
    {
     "name": "stderr",
     "output_type": "stream",
     "text": [
      "100%|██████████| 16/16 [00:20<00:00,  1.27s/it, loss=1.13e-5] \n"
     ]
    },
    {
     "name": "stdout",
     "output_type": "stream",
     "text": [
      "Epoch 10: 1.8181079905977786\n"
     ]
    },
    {
     "name": "stderr",
     "output_type": "stream",
     "text": [
      "100%|██████████| 16/16 [00:20<00:00,  1.30s/it, loss=5.96e-8] \n"
     ]
    },
    {
     "name": "stdout",
     "output_type": "stream",
     "text": [
      "Epoch 11: 1.4996442721872285\n"
     ]
    },
    {
     "name": "stderr",
     "output_type": "stream",
     "text": [
      "100%|██████████| 16/16 [00:21<00:00,  1.31s/it, loss=0.000801]\n"
     ]
    },
    {
     "name": "stdout",
     "output_type": "stream",
     "text": [
      "Epoch 12: 1.777118430981775\n"
     ]
    },
    {
     "name": "stderr",
     "output_type": "stream",
     "text": [
      "100%|██████████| 16/16 [00:20<00:00,  1.29s/it, loss=0]       \n"
     ]
    },
    {
     "name": "stdout",
     "output_type": "stream",
     "text": [
      "Epoch 13: 0.26687145277465235\n"
     ]
    },
    {
     "name": "stderr",
     "output_type": "stream",
     "text": [
      "100%|██████████| 16/16 [00:21<00:00,  1.34s/it, loss=0]       \n"
     ]
    },
    {
     "name": "stdout",
     "output_type": "stream",
     "text": [
      "Epoch 14: 0.45976361441714636\n"
     ]
    },
    {
     "name": "stderr",
     "output_type": "stream",
     "text": [
      "100%|██████████| 16/16 [00:20<00:00,  1.26s/it, loss=1.18]    "
     ]
    },
    {
     "name": "stdout",
     "output_type": "stream",
     "text": [
      "Epoch 15: 0.8203867801319445\n"
     ]
    },
    {
     "name": "stderr",
     "output_type": "stream",
     "text": [
      "\n"
     ]
    }
   ],
   "source": [
    "NUM_EPOCHS = 15\n",
    "EMBEDDING_LENGTH = 100\n",
    "model = Classifier(vocabulary_size, train_x.shape[1], EMBEDDING_LENGTH, train_y.shape[1]).to(DEVICE)\n",
    "optimizer = torch.optim.Adam(model.parameters())\n",
    "criterion = nn.BCEWithLogitsLoss()\n",
    "\n",
    "for i in range(NUM_EPOCHS):\n",
    "    ave_loss = train_fn(loader, model, optimizer, criterion, device=DEVICE)\n",
    "    print(f'Epoch {i+1}: {ave_loss}')"
   ]
  },
  {
   "cell_type": "code",
   "execution_count": 84,
   "metadata": {},
   "outputs": [
    {
     "name": "stdout",
     "output_type": "stream",
     "text": [
      "True positives: 2\n",
      "True negatives: 6\n",
      "False positives: 4\n",
      "False negatives: 8\n",
      "\n",
      "Accuracy: 0.4\n"
     ]
    }
   ],
   "source": [
    "test_loader = DataLoader(\n",
    "    MyCustomDataset(test_x.values, test_y.values),\n",
    "    batch_size = 5,\n",
    "    shuffle = True\n",
    ")\n",
    "\n",
    "y_pred = []\n",
    "y_true = []\n",
    "\n",
    "model.eval()\n",
    "\n",
    "for batch_idx, (data, targets) in enumerate(test_loader):\n",
    "    data = data.to(DEVICE).long()\n",
    "    targets = targets.to(DEVICE)\n",
    "\n",
    "    for inst_idx in range(data.shape[0]):\n",
    "        with torch.no_grad():\n",
    "            pred = model(data[inst_idx])\n",
    "\n",
    "        # print(pred)\n",
    "        # print(targets[inst_idx])\n",
    "        # print(nn.BCEWithLogitsLoss()(pred, targets[inst_idx]))\n",
    "        pred = pred.cpu().numpy()\n",
    "        pred = np.argmax(pred)\n",
    "        y_pred.append(pred)\n",
    "\n",
    "        truth = np.argmax(targets[inst_idx].cpu().numpy())\n",
    "        y_true.append(truth)\n",
    "\n",
    "tp, fn, fp, tn = confusion_matrix(y_true, y_pred).ravel()\n",
    "print(f'True positives: {tp}')\n",
    "print(f'True negatives: {tn}')\n",
    "print(f'False positives: {fp}')\n",
    "print(f'False negatives: {fn}')\n",
    "print()\n",
    "print(f'Accuracy: {(tn + tp) / (tn + tp + fn + fp)}')"
   ]
  },
  {
   "cell_type": "code",
   "execution_count": 83,
   "metadata": {},
   "outputs": [
    {
     "name": "stdout",
     "output_type": "stream",
     "text": [
      "[1, 1, 1, 1, 1, 0, 0, 0, 1, 1, 1, 1, 1, 0, 1, 0, 1, 1, 0, 1]\n",
      "[1, 1, 1, 1, 0, 1, 0, 1, 1, 0, 1, 0, 0, 1, 0, 1, 0, 0, 0, 0]\n"
     ]
    }
   ],
   "source": [
    "print(y_pred)\n",
    "print(y_true)"
   ]
  }
 ],
 "metadata": {
  "kernelspec": {
   "display_name": "Python 3 (ipykernel)",
   "language": "python",
   "name": "python3"
  },
  "language_info": {
   "codemirror_mode": {
    "name": "ipython",
    "version": 3
   },
   "file_extension": ".py",
   "mimetype": "text/x-python",
   "name": "python",
   "nbconvert_exporter": "python",
   "pygments_lexer": "ipython3",
   "version": "3.11.5"
  }
 },
 "nbformat": 4,
 "nbformat_minor": 4
}
