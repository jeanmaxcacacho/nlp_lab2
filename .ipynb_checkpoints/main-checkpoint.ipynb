{
 "cells": [
  {
   "cell_type": "code",
   "execution_count": 17,
   "metadata": {},
   "outputs": [],
   "source": [
    "import pandas as pd\n",
    "import torch\n",
    "import torch.nn as nn\n",
    "import numpy as np\n",
    "import math\n",
    "from torch.utils.data import Dataset\n",
    "from torch.utils.data import DataLoader\n",
    "from tqdm import tqdm\n",
    "import sklearn"
   ]
  },
  {
   "cell_type": "code",
   "execution_count": 2,
   "metadata": {},
   "outputs": [],
   "source": [
    "DEVICE = \"cpu\""
   ]
  },
  {
   "cell_type": "code",
   "execution_count": 3,
   "metadata": {},
   "outputs": [
    {
     "data": {
      "text/html": [
       "<div>\n",
       "<style scoped>\n",
       "    .dataframe tbody tr th:only-of-type {\n",
       "        vertical-align: middle;\n",
       "    }\n",
       "\n",
       "    .dataframe tbody tr th {\n",
       "        vertical-align: top;\n",
       "    }\n",
       "\n",
       "    .dataframe thead th {\n",
       "        text-align: right;\n",
       "    }\n",
       "</style>\n",
       "<table border=\"1\" class=\"dataframe\">\n",
       "  <thead>\n",
       "    <tr style=\"text-align: right;\">\n",
       "      <th></th>\n",
       "      <th>x0</th>\n",
       "      <th>x1</th>\n",
       "      <th>x2</th>\n",
       "      <th>x3</th>\n",
       "      <th>x4</th>\n",
       "      <th>x5</th>\n",
       "      <th>x6</th>\n",
       "      <th>x7</th>\n",
       "      <th>x8</th>\n",
       "      <th>x9</th>\n",
       "      <th>...</th>\n",
       "      <th>x1514</th>\n",
       "      <th>x1515</th>\n",
       "      <th>x1516</th>\n",
       "      <th>x1517</th>\n",
       "      <th>x1518</th>\n",
       "      <th>x1519</th>\n",
       "      <th>x1520</th>\n",
       "      <th>x1521</th>\n",
       "      <th>y0</th>\n",
       "      <th>y1</th>\n",
       "    </tr>\n",
       "  </thead>\n",
       "  <tbody>\n",
       "    <tr>\n",
       "      <th>0</th>\n",
       "      <td>17664</td>\n",
       "      <td>3826</td>\n",
       "      <td>1374</td>\n",
       "      <td>2189</td>\n",
       "      <td>13895</td>\n",
       "      <td>19035</td>\n",
       "      <td>18361</td>\n",
       "      <td>10508</td>\n",
       "      <td>12642</td>\n",
       "      <td>74</td>\n",
       "      <td>...</td>\n",
       "      <td>2738</td>\n",
       "      <td>2738</td>\n",
       "      <td>2738</td>\n",
       "      <td>2738</td>\n",
       "      <td>2738</td>\n",
       "      <td>2738</td>\n",
       "      <td>2738</td>\n",
       "      <td>2738</td>\n",
       "      <td>1</td>\n",
       "      <td>0</td>\n",
       "    </tr>\n",
       "    <tr>\n",
       "      <th>1</th>\n",
       "      <td>17664</td>\n",
       "      <td>4823</td>\n",
       "      <td>13840</td>\n",
       "      <td>15853</td>\n",
       "      <td>1657</td>\n",
       "      <td>8712</td>\n",
       "      <td>16992</td>\n",
       "      <td>16992</td>\n",
       "      <td>17664</td>\n",
       "      <td>2189</td>\n",
       "      <td>...</td>\n",
       "      <td>2738</td>\n",
       "      <td>2738</td>\n",
       "      <td>2738</td>\n",
       "      <td>2738</td>\n",
       "      <td>2738</td>\n",
       "      <td>2738</td>\n",
       "      <td>2738</td>\n",
       "      <td>2738</td>\n",
       "      <td>1</td>\n",
       "      <td>0</td>\n",
       "    </tr>\n",
       "    <tr>\n",
       "      <th>2</th>\n",
       "      <td>17664</td>\n",
       "      <td>2154</td>\n",
       "      <td>477</td>\n",
       "      <td>1401</td>\n",
       "      <td>12896</td>\n",
       "      <td>4823</td>\n",
       "      <td>13840</td>\n",
       "      <td>13421</td>\n",
       "      <td>6563</td>\n",
       "      <td>17657</td>\n",
       "      <td>...</td>\n",
       "      <td>2738</td>\n",
       "      <td>2738</td>\n",
       "      <td>2738</td>\n",
       "      <td>2738</td>\n",
       "      <td>2738</td>\n",
       "      <td>2738</td>\n",
       "      <td>2738</td>\n",
       "      <td>2738</td>\n",
       "      <td>1</td>\n",
       "      <td>0</td>\n",
       "    </tr>\n",
       "    <tr>\n",
       "      <th>3</th>\n",
       "      <td>17664</td>\n",
       "      <td>5958</td>\n",
       "      <td>1526</td>\n",
       "      <td>1851</td>\n",
       "      <td>4823</td>\n",
       "      <td>7663</td>\n",
       "      <td>3945</td>\n",
       "      <td>4823</td>\n",
       "      <td>15853</td>\n",
       "      <td>7046</td>\n",
       "      <td>...</td>\n",
       "      <td>2738</td>\n",
       "      <td>2738</td>\n",
       "      <td>2738</td>\n",
       "      <td>2738</td>\n",
       "      <td>2738</td>\n",
       "      <td>2738</td>\n",
       "      <td>2738</td>\n",
       "      <td>2738</td>\n",
       "      <td>0</td>\n",
       "      <td>1</td>\n",
       "    </tr>\n",
       "    <tr>\n",
       "      <th>4</th>\n",
       "      <td>17664</td>\n",
       "      <td>3948</td>\n",
       "      <td>8652</td>\n",
       "      <td>1851</td>\n",
       "      <td>6059</td>\n",
       "      <td>3661</td>\n",
       "      <td>15581</td>\n",
       "      <td>2189</td>\n",
       "      <td>3854</td>\n",
       "      <td>1374</td>\n",
       "      <td>...</td>\n",
       "      <td>2738</td>\n",
       "      <td>2738</td>\n",
       "      <td>2738</td>\n",
       "      <td>2738</td>\n",
       "      <td>2738</td>\n",
       "      <td>2738</td>\n",
       "      <td>2738</td>\n",
       "      <td>2738</td>\n",
       "      <td>1</td>\n",
       "      <td>0</td>\n",
       "    </tr>\n",
       "    <tr>\n",
       "      <th>...</th>\n",
       "      <td>...</td>\n",
       "      <td>...</td>\n",
       "      <td>...</td>\n",
       "      <td>...</td>\n",
       "      <td>...</td>\n",
       "      <td>...</td>\n",
       "      <td>...</td>\n",
       "      <td>...</td>\n",
       "      <td>...</td>\n",
       "      <td>...</td>\n",
       "      <td>...</td>\n",
       "      <td>...</td>\n",
       "      <td>...</td>\n",
       "      <td>...</td>\n",
       "      <td>...</td>\n",
       "      <td>...</td>\n",
       "      <td>...</td>\n",
       "      <td>...</td>\n",
       "      <td>...</td>\n",
       "      <td>...</td>\n",
       "      <td>...</td>\n",
       "    </tr>\n",
       "    <tr>\n",
       "      <th>995</th>\n",
       "      <td>17664</td>\n",
       "      <td>3928</td>\n",
       "      <td>10193</td>\n",
       "      <td>8775</td>\n",
       "      <td>8712</td>\n",
       "      <td>17664</td>\n",
       "      <td>6516</td>\n",
       "      <td>14213</td>\n",
       "      <td>12870</td>\n",
       "      <td>2753</td>\n",
       "      <td>...</td>\n",
       "      <td>2738</td>\n",
       "      <td>2738</td>\n",
       "      <td>2738</td>\n",
       "      <td>2738</td>\n",
       "      <td>2738</td>\n",
       "      <td>2738</td>\n",
       "      <td>2738</td>\n",
       "      <td>2738</td>\n",
       "      <td>1</td>\n",
       "      <td>0</td>\n",
       "    </tr>\n",
       "    <tr>\n",
       "      <th>996</th>\n",
       "      <td>17664</td>\n",
       "      <td>2154</td>\n",
       "      <td>721</td>\n",
       "      <td>15595</td>\n",
       "      <td>8712</td>\n",
       "      <td>17664</td>\n",
       "      <td>2154</td>\n",
       "      <td>4865</td>\n",
       "      <td>5069</td>\n",
       "      <td>16680</td>\n",
       "      <td>...</td>\n",
       "      <td>2738</td>\n",
       "      <td>2738</td>\n",
       "      <td>2738</td>\n",
       "      <td>2738</td>\n",
       "      <td>2738</td>\n",
       "      <td>2738</td>\n",
       "      <td>2738</td>\n",
       "      <td>2738</td>\n",
       "      <td>0</td>\n",
       "      <td>1</td>\n",
       "    </tr>\n",
       "    <tr>\n",
       "      <th>997</th>\n",
       "      <td>17664</td>\n",
       "      <td>2154</td>\n",
       "      <td>6645</td>\n",
       "      <td>3976</td>\n",
       "      <td>6563</td>\n",
       "      <td>12852</td>\n",
       "      <td>4348</td>\n",
       "      <td>18264</td>\n",
       "      <td>16960</td>\n",
       "      <td>12318</td>\n",
       "      <td>...</td>\n",
       "      <td>2738</td>\n",
       "      <td>2738</td>\n",
       "      <td>2738</td>\n",
       "      <td>2738</td>\n",
       "      <td>2738</td>\n",
       "      <td>2738</td>\n",
       "      <td>2738</td>\n",
       "      <td>2738</td>\n",
       "      <td>0</td>\n",
       "      <td>1</td>\n",
       "    </tr>\n",
       "    <tr>\n",
       "      <th>998</th>\n",
       "      <td>17664</td>\n",
       "      <td>11590</td>\n",
       "      <td>11443</td>\n",
       "      <td>8581</td>\n",
       "      <td>4790</td>\n",
       "      <td>10193</td>\n",
       "      <td>14059</td>\n",
       "      <td>6563</td>\n",
       "      <td>14699</td>\n",
       "      <td>1401</td>\n",
       "      <td>...</td>\n",
       "      <td>2738</td>\n",
       "      <td>2738</td>\n",
       "      <td>2738</td>\n",
       "      <td>2738</td>\n",
       "      <td>2738</td>\n",
       "      <td>2738</td>\n",
       "      <td>2738</td>\n",
       "      <td>2738</td>\n",
       "      <td>0</td>\n",
       "      <td>1</td>\n",
       "    </tr>\n",
       "    <tr>\n",
       "      <th>999</th>\n",
       "      <td>17664</td>\n",
       "      <td>1401</td>\n",
       "      <td>10193</td>\n",
       "      <td>8581</td>\n",
       "      <td>4823</td>\n",
       "      <td>4178</td>\n",
       "      <td>16679</td>\n",
       "      <td>2368</td>\n",
       "      <td>2451</td>\n",
       "      <td>12642</td>\n",
       "      <td>...</td>\n",
       "      <td>2738</td>\n",
       "      <td>2738</td>\n",
       "      <td>2738</td>\n",
       "      <td>2738</td>\n",
       "      <td>2738</td>\n",
       "      <td>2738</td>\n",
       "      <td>2738</td>\n",
       "      <td>2738</td>\n",
       "      <td>0</td>\n",
       "      <td>1</td>\n",
       "    </tr>\n",
       "  </tbody>\n",
       "</table>\n",
       "<p>1000 rows × 1524 columns</p>\n",
       "</div>"
      ],
      "text/plain": [
       "        x0     x1     x2     x3     x4     x5     x6     x7     x8     x9  \\\n",
       "0    17664   3826   1374   2189  13895  19035  18361  10508  12642     74   \n",
       "1    17664   4823  13840  15853   1657   8712  16992  16992  17664   2189   \n",
       "2    17664   2154    477   1401  12896   4823  13840  13421   6563  17657   \n",
       "3    17664   5958   1526   1851   4823   7663   3945   4823  15853   7046   \n",
       "4    17664   3948   8652   1851   6059   3661  15581   2189   3854   1374   \n",
       "..     ...    ...    ...    ...    ...    ...    ...    ...    ...    ...   \n",
       "995  17664   3928  10193   8775   8712  17664   6516  14213  12870   2753   \n",
       "996  17664   2154    721  15595   8712  17664   2154   4865   5069  16680   \n",
       "997  17664   2154   6645   3976   6563  12852   4348  18264  16960  12318   \n",
       "998  17664  11590  11443   8581   4790  10193  14059   6563  14699   1401   \n",
       "999  17664   1401  10193   8581   4823   4178  16679   2368   2451  12642   \n",
       "\n",
       "     ...  x1514  x1515  x1516  x1517  x1518  x1519  x1520  x1521  y0  y1  \n",
       "0    ...   2738   2738   2738   2738   2738   2738   2738   2738   1   0  \n",
       "1    ...   2738   2738   2738   2738   2738   2738   2738   2738   1   0  \n",
       "2    ...   2738   2738   2738   2738   2738   2738   2738   2738   1   0  \n",
       "3    ...   2738   2738   2738   2738   2738   2738   2738   2738   0   1  \n",
       "4    ...   2738   2738   2738   2738   2738   2738   2738   2738   1   0  \n",
       "..   ...    ...    ...    ...    ...    ...    ...    ...    ...  ..  ..  \n",
       "995  ...   2738   2738   2738   2738   2738   2738   2738   2738   1   0  \n",
       "996  ...   2738   2738   2738   2738   2738   2738   2738   2738   0   1  \n",
       "997  ...   2738   2738   2738   2738   2738   2738   2738   2738   0   1  \n",
       "998  ...   2738   2738   2738   2738   2738   2738   2738   2738   0   1  \n",
       "999  ...   2738   2738   2738   2738   2738   2738   2738   2738   0   1  \n",
       "\n",
       "[1000 rows x 1524 columns]"
      ]
     },
     "execution_count": 3,
     "metadata": {},
     "output_type": "execute_result"
    }
   ],
   "source": [
    "csv_file = 'dataset.csv'\n",
    "\n",
    "# read only 1000 reviews for speed\n",
    "df = pd.read_csv(csv_file, nrows=1_000, index_col=0)\n",
    "\n",
    "df"
   ]
  },
  {
   "cell_type": "code",
   "execution_count": 4,
   "metadata": {},
   "outputs": [
    {
     "data": {
      "text/plain": [
       "19504"
      ]
     },
     "execution_count": 4,
     "metadata": {},
     "output_type": "execute_result"
    }
   ],
   "source": [
    "vocabulary_size = df.max().max() + 1\n",
    "vocabulary_size"
   ]
  },
  {
   "cell_type": "code",
   "execution_count": 5,
   "metadata": {},
   "outputs": [
    {
     "data": {
      "text/html": [
       "<div>\n",
       "<style scoped>\n",
       "    .dataframe tbody tr th:only-of-type {\n",
       "        vertical-align: middle;\n",
       "    }\n",
       "\n",
       "    .dataframe tbody tr th {\n",
       "        vertical-align: top;\n",
       "    }\n",
       "\n",
       "    .dataframe thead th {\n",
       "        text-align: right;\n",
       "    }\n",
       "</style>\n",
       "<table border=\"1\" class=\"dataframe\">\n",
       "  <thead>\n",
       "    <tr style=\"text-align: right;\">\n",
       "      <th></th>\n",
       "      <th>x0</th>\n",
       "      <th>x1</th>\n",
       "      <th>x2</th>\n",
       "      <th>x3</th>\n",
       "      <th>x4</th>\n",
       "      <th>x5</th>\n",
       "      <th>x6</th>\n",
       "      <th>x7</th>\n",
       "      <th>x8</th>\n",
       "      <th>x9</th>\n",
       "      <th>...</th>\n",
       "      <th>x1514</th>\n",
       "      <th>x1515</th>\n",
       "      <th>x1516</th>\n",
       "      <th>x1517</th>\n",
       "      <th>x1518</th>\n",
       "      <th>x1519</th>\n",
       "      <th>x1520</th>\n",
       "      <th>x1521</th>\n",
       "      <th>y0</th>\n",
       "      <th>y1</th>\n",
       "    </tr>\n",
       "  </thead>\n",
       "  <tbody>\n",
       "    <tr>\n",
       "      <th>0</th>\n",
       "      <td>17664</td>\n",
       "      <td>3826</td>\n",
       "      <td>1374</td>\n",
       "      <td>2189</td>\n",
       "      <td>13895</td>\n",
       "      <td>19035</td>\n",
       "      <td>18361</td>\n",
       "      <td>10508</td>\n",
       "      <td>12642</td>\n",
       "      <td>74</td>\n",
       "      <td>...</td>\n",
       "      <td>2738</td>\n",
       "      <td>2738</td>\n",
       "      <td>2738</td>\n",
       "      <td>2738</td>\n",
       "      <td>2738</td>\n",
       "      <td>2738</td>\n",
       "      <td>2738</td>\n",
       "      <td>2738</td>\n",
       "      <td>1</td>\n",
       "      <td>0</td>\n",
       "    </tr>\n",
       "    <tr>\n",
       "      <th>1</th>\n",
       "      <td>17664</td>\n",
       "      <td>4823</td>\n",
       "      <td>13840</td>\n",
       "      <td>15853</td>\n",
       "      <td>1657</td>\n",
       "      <td>8712</td>\n",
       "      <td>16992</td>\n",
       "      <td>16992</td>\n",
       "      <td>17664</td>\n",
       "      <td>2189</td>\n",
       "      <td>...</td>\n",
       "      <td>2738</td>\n",
       "      <td>2738</td>\n",
       "      <td>2738</td>\n",
       "      <td>2738</td>\n",
       "      <td>2738</td>\n",
       "      <td>2738</td>\n",
       "      <td>2738</td>\n",
       "      <td>2738</td>\n",
       "      <td>1</td>\n",
       "      <td>0</td>\n",
       "    </tr>\n",
       "    <tr>\n",
       "      <th>2</th>\n",
       "      <td>17664</td>\n",
       "      <td>2154</td>\n",
       "      <td>477</td>\n",
       "      <td>1401</td>\n",
       "      <td>12896</td>\n",
       "      <td>4823</td>\n",
       "      <td>13840</td>\n",
       "      <td>13421</td>\n",
       "      <td>6563</td>\n",
       "      <td>17657</td>\n",
       "      <td>...</td>\n",
       "      <td>2738</td>\n",
       "      <td>2738</td>\n",
       "      <td>2738</td>\n",
       "      <td>2738</td>\n",
       "      <td>2738</td>\n",
       "      <td>2738</td>\n",
       "      <td>2738</td>\n",
       "      <td>2738</td>\n",
       "      <td>1</td>\n",
       "      <td>0</td>\n",
       "    </tr>\n",
       "    <tr>\n",
       "      <th>4</th>\n",
       "      <td>17664</td>\n",
       "      <td>3948</td>\n",
       "      <td>8652</td>\n",
       "      <td>1851</td>\n",
       "      <td>6059</td>\n",
       "      <td>3661</td>\n",
       "      <td>15581</td>\n",
       "      <td>2189</td>\n",
       "      <td>3854</td>\n",
       "      <td>1374</td>\n",
       "      <td>...</td>\n",
       "      <td>2738</td>\n",
       "      <td>2738</td>\n",
       "      <td>2738</td>\n",
       "      <td>2738</td>\n",
       "      <td>2738</td>\n",
       "      <td>2738</td>\n",
       "      <td>2738</td>\n",
       "      <td>2738</td>\n",
       "      <td>1</td>\n",
       "      <td>0</td>\n",
       "    </tr>\n",
       "    <tr>\n",
       "      <th>5</th>\n",
       "      <td>17664</td>\n",
       "      <td>19205</td>\n",
       "      <td>15039</td>\n",
       "      <td>9249</td>\n",
       "      <td>18059</td>\n",
       "      <td>2281</td>\n",
       "      <td>2368</td>\n",
       "      <td>4823</td>\n",
       "      <td>7946</td>\n",
       "      <td>1374</td>\n",
       "      <td>...</td>\n",
       "      <td>2738</td>\n",
       "      <td>2738</td>\n",
       "      <td>2738</td>\n",
       "      <td>2738</td>\n",
       "      <td>2738</td>\n",
       "      <td>2738</td>\n",
       "      <td>2738</td>\n",
       "      <td>2738</td>\n",
       "      <td>1</td>\n",
       "      <td>0</td>\n",
       "    </tr>\n",
       "    <tr>\n",
       "      <th>6</th>\n",
       "      <td>17664</td>\n",
       "      <td>2154</td>\n",
       "      <td>8669</td>\n",
       "      <td>7521</td>\n",
       "      <td>8581</td>\n",
       "      <td>6563</td>\n",
       "      <td>14699</td>\n",
       "      <td>4823</td>\n",
       "      <td>5531</td>\n",
       "      <td>1374</td>\n",
       "      <td>...</td>\n",
       "      <td>2738</td>\n",
       "      <td>2738</td>\n",
       "      <td>2738</td>\n",
       "      <td>2738</td>\n",
       "      <td>2738</td>\n",
       "      <td>2738</td>\n",
       "      <td>2738</td>\n",
       "      <td>2738</td>\n",
       "      <td>1</td>\n",
       "      <td>0</td>\n",
       "    </tr>\n",
       "    <tr>\n",
       "      <th>9</th>\n",
       "      <td>17664</td>\n",
       "      <td>11590</td>\n",
       "      <td>11443</td>\n",
       "      <td>8581</td>\n",
       "      <td>1696</td>\n",
       "      <td>4145</td>\n",
       "      <td>5294</td>\n",
       "      <td>16537</td>\n",
       "      <td>11443</td>\n",
       "      <td>11141</td>\n",
       "      <td>...</td>\n",
       "      <td>2738</td>\n",
       "      <td>2738</td>\n",
       "      <td>2738</td>\n",
       "      <td>2738</td>\n",
       "      <td>2738</td>\n",
       "      <td>2738</td>\n",
       "      <td>2738</td>\n",
       "      <td>2738</td>\n",
       "      <td>1</td>\n",
       "      <td>0</td>\n",
       "    </tr>\n",
       "    <tr>\n",
       "      <th>14</th>\n",
       "      <td>17664</td>\n",
       "      <td>1401</td>\n",
       "      <td>4823</td>\n",
       "      <td>8392</td>\n",
       "      <td>2281</td>\n",
       "      <td>1374</td>\n",
       "      <td>17252</td>\n",
       "      <td>12814</td>\n",
       "      <td>849</td>\n",
       "      <td>2534</td>\n",
       "      <td>...</td>\n",
       "      <td>2738</td>\n",
       "      <td>2738</td>\n",
       "      <td>2738</td>\n",
       "      <td>2738</td>\n",
       "      <td>2738</td>\n",
       "      <td>2738</td>\n",
       "      <td>2738</td>\n",
       "      <td>2738</td>\n",
       "      <td>1</td>\n",
       "      <td>0</td>\n",
       "    </tr>\n",
       "    <tr>\n",
       "      <th>16</th>\n",
       "      <td>17664</td>\n",
       "      <td>19088</td>\n",
       "      <td>9970</td>\n",
       "      <td>6516</td>\n",
       "      <td>2252</td>\n",
       "      <td>5127</td>\n",
       "      <td>10526</td>\n",
       "      <td>12852</td>\n",
       "      <td>4617</td>\n",
       "      <td>8712</td>\n",
       "      <td>...</td>\n",
       "      <td>2738</td>\n",
       "      <td>2738</td>\n",
       "      <td>2738</td>\n",
       "      <td>2738</td>\n",
       "      <td>2738</td>\n",
       "      <td>2738</td>\n",
       "      <td>2738</td>\n",
       "      <td>2738</td>\n",
       "      <td>1</td>\n",
       "      <td>0</td>\n",
       "    </tr>\n",
       "    <tr>\n",
       "      <th>18</th>\n",
       "      <td>17664</td>\n",
       "      <td>2154</td>\n",
       "      <td>11209</td>\n",
       "      <td>1401</td>\n",
       "      <td>10546</td>\n",
       "      <td>2368</td>\n",
       "      <td>15595</td>\n",
       "      <td>12896</td>\n",
       "      <td>2189</td>\n",
       "      <td>18124</td>\n",
       "      <td>...</td>\n",
       "      <td>2738</td>\n",
       "      <td>2738</td>\n",
       "      <td>2738</td>\n",
       "      <td>2738</td>\n",
       "      <td>2738</td>\n",
       "      <td>2738</td>\n",
       "      <td>2738</td>\n",
       "      <td>2738</td>\n",
       "      <td>1</td>\n",
       "      <td>0</td>\n",
       "    </tr>\n",
       "    <tr>\n",
       "      <th>20</th>\n",
       "      <td>17664</td>\n",
       "      <td>74</td>\n",
       "      <td>2189</td>\n",
       "      <td>5355</td>\n",
       "      <td>1374</td>\n",
       "      <td>5921</td>\n",
       "      <td>13915</td>\n",
       "      <td>18264</td>\n",
       "      <td>15595</td>\n",
       "      <td>1851</td>\n",
       "      <td>...</td>\n",
       "      <td>2738</td>\n",
       "      <td>2738</td>\n",
       "      <td>2738</td>\n",
       "      <td>2738</td>\n",
       "      <td>2738</td>\n",
       "      <td>2738</td>\n",
       "      <td>2738</td>\n",
       "      <td>2738</td>\n",
       "      <td>1</td>\n",
       "      <td>0</td>\n",
       "    </tr>\n",
       "    <tr>\n",
       "      <th>22</th>\n",
       "      <td>17664</td>\n",
       "      <td>9790</td>\n",
       "      <td>6732</td>\n",
       "      <td>5118</td>\n",
       "      <td>18100</td>\n",
       "      <td>2281</td>\n",
       "      <td>2368</td>\n",
       "      <td>11590</td>\n",
       "      <td>11443</td>\n",
       "      <td>18785</td>\n",
       "      <td>...</td>\n",
       "      <td>2738</td>\n",
       "      <td>2738</td>\n",
       "      <td>2738</td>\n",
       "      <td>2738</td>\n",
       "      <td>2738</td>\n",
       "      <td>2738</td>\n",
       "      <td>2738</td>\n",
       "      <td>2738</td>\n",
       "      <td>1</td>\n",
       "      <td>0</td>\n",
       "    </tr>\n",
       "    <tr>\n",
       "      <th>25</th>\n",
       "      <td>17664</td>\n",
       "      <td>2189</td>\n",
       "      <td>14430</td>\n",
       "      <td>11428</td>\n",
       "      <td>7946</td>\n",
       "      <td>10305</td>\n",
       "      <td>4823</td>\n",
       "      <td>15853</td>\n",
       "      <td>17725</td>\n",
       "      <td>15207</td>\n",
       "      <td>...</td>\n",
       "      <td>2738</td>\n",
       "      <td>2738</td>\n",
       "      <td>2738</td>\n",
       "      <td>2738</td>\n",
       "      <td>2738</td>\n",
       "      <td>2738</td>\n",
       "      <td>2738</td>\n",
       "      <td>2738</td>\n",
       "      <td>1</td>\n",
       "      <td>0</td>\n",
       "    </tr>\n",
       "    <tr>\n",
       "      <th>26</th>\n",
       "      <td>17664</td>\n",
       "      <td>6059</td>\n",
       "      <td>2189</td>\n",
       "      <td>10739</td>\n",
       "      <td>8304</td>\n",
       "      <td>10193</td>\n",
       "      <td>6732</td>\n",
       "      <td>15243</td>\n",
       "      <td>13717</td>\n",
       "      <td>2368</td>\n",
       "      <td>...</td>\n",
       "      <td>2738</td>\n",
       "      <td>2738</td>\n",
       "      <td>2738</td>\n",
       "      <td>2738</td>\n",
       "      <td>2738</td>\n",
       "      <td>2738</td>\n",
       "      <td>2738</td>\n",
       "      <td>2738</td>\n",
       "      <td>1</td>\n",
       "      <td>0</td>\n",
       "    </tr>\n",
       "    <tr>\n",
       "      <th>29</th>\n",
       "      <td>17664</td>\n",
       "      <td>17917</td>\n",
       "      <td>2281</td>\n",
       "      <td>4622</td>\n",
       "      <td>10193</td>\n",
       "      <td>4823</td>\n",
       "      <td>11279</td>\n",
       "      <td>3092</td>\n",
       "      <td>12642</td>\n",
       "      <td>18361</td>\n",
       "      <td>...</td>\n",
       "      <td>2738</td>\n",
       "      <td>2738</td>\n",
       "      <td>2738</td>\n",
       "      <td>2738</td>\n",
       "      <td>2738</td>\n",
       "      <td>2738</td>\n",
       "      <td>2738</td>\n",
       "      <td>2738</td>\n",
       "      <td>1</td>\n",
       "      <td>0</td>\n",
       "    </tr>\n",
       "    <tr>\n",
       "      <th>30</th>\n",
       "      <td>17664</td>\n",
       "      <td>12832</td>\n",
       "      <td>18264</td>\n",
       "      <td>11711</td>\n",
       "      <td>11703</td>\n",
       "      <td>2368</td>\n",
       "      <td>11977</td>\n",
       "      <td>932</td>\n",
       "      <td>1851</td>\n",
       "      <td>13256</td>\n",
       "      <td>...</td>\n",
       "      <td>2738</td>\n",
       "      <td>2738</td>\n",
       "      <td>2738</td>\n",
       "      <td>2738</td>\n",
       "      <td>2738</td>\n",
       "      <td>2738</td>\n",
       "      <td>2738</td>\n",
       "      <td>2738</td>\n",
       "      <td>1</td>\n",
       "      <td>0</td>\n",
       "    </tr>\n",
       "    <tr>\n",
       "      <th>31</th>\n",
       "      <td>17664</td>\n",
       "      <td>6059</td>\n",
       "      <td>11317</td>\n",
       "      <td>3240</td>\n",
       "      <td>8304</td>\n",
       "      <td>10193</td>\n",
       "      <td>3826</td>\n",
       "      <td>1374</td>\n",
       "      <td>2189</td>\n",
       "      <td>19308</td>\n",
       "      <td>...</td>\n",
       "      <td>2738</td>\n",
       "      <td>2738</td>\n",
       "      <td>2738</td>\n",
       "      <td>2738</td>\n",
       "      <td>2738</td>\n",
       "      <td>2738</td>\n",
       "      <td>2738</td>\n",
       "      <td>2738</td>\n",
       "      <td>1</td>\n",
       "      <td>0</td>\n",
       "    </tr>\n",
       "    <tr>\n",
       "      <th>33</th>\n",
       "      <td>17664</td>\n",
       "      <td>3826</td>\n",
       "      <td>1374</td>\n",
       "      <td>2189</td>\n",
       "      <td>13420</td>\n",
       "      <td>16747</td>\n",
       "      <td>9618</td>\n",
       "      <td>7941</td>\n",
       "      <td>2189</td>\n",
       "      <td>287</td>\n",
       "      <td>...</td>\n",
       "      <td>2738</td>\n",
       "      <td>2738</td>\n",
       "      <td>2738</td>\n",
       "      <td>2738</td>\n",
       "      <td>2738</td>\n",
       "      <td>2738</td>\n",
       "      <td>2738</td>\n",
       "      <td>2738</td>\n",
       "      <td>1</td>\n",
       "      <td>0</td>\n",
       "    </tr>\n",
       "    <tr>\n",
       "      <th>38</th>\n",
       "      <td>17664</td>\n",
       "      <td>757</td>\n",
       "      <td>2368</td>\n",
       "      <td>7707</td>\n",
       "      <td>1401</td>\n",
       "      <td>14427</td>\n",
       "      <td>1005</td>\n",
       "      <td>1374</td>\n",
       "      <td>3321</td>\n",
       "      <td>2189</td>\n",
       "      <td>...</td>\n",
       "      <td>2738</td>\n",
       "      <td>2738</td>\n",
       "      <td>2738</td>\n",
       "      <td>2738</td>\n",
       "      <td>2738</td>\n",
       "      <td>2738</td>\n",
       "      <td>2738</td>\n",
       "      <td>2738</td>\n",
       "      <td>1</td>\n",
       "      <td>0</td>\n",
       "    </tr>\n",
       "    <tr>\n",
       "      <th>41</th>\n",
       "      <td>17664</td>\n",
       "      <td>1401</td>\n",
       "      <td>2281</td>\n",
       "      <td>10193</td>\n",
       "      <td>6469</td>\n",
       "      <td>15104</td>\n",
       "      <td>2189</td>\n",
       "      <td>11097</td>\n",
       "      <td>2368</td>\n",
       "      <td>6059</td>\n",
       "      <td>...</td>\n",
       "      <td>2738</td>\n",
       "      <td>2738</td>\n",
       "      <td>2738</td>\n",
       "      <td>2738</td>\n",
       "      <td>2738</td>\n",
       "      <td>2738</td>\n",
       "      <td>2738</td>\n",
       "      <td>2738</td>\n",
       "      <td>1</td>\n",
       "      <td>0</td>\n",
       "    </tr>\n",
       "    <tr>\n",
       "      <th>3</th>\n",
       "      <td>17664</td>\n",
       "      <td>5958</td>\n",
       "      <td>1526</td>\n",
       "      <td>1851</td>\n",
       "      <td>4823</td>\n",
       "      <td>7663</td>\n",
       "      <td>3945</td>\n",
       "      <td>4823</td>\n",
       "      <td>15853</td>\n",
       "      <td>7046</td>\n",
       "      <td>...</td>\n",
       "      <td>2738</td>\n",
       "      <td>2738</td>\n",
       "      <td>2738</td>\n",
       "      <td>2738</td>\n",
       "      <td>2738</td>\n",
       "      <td>2738</td>\n",
       "      <td>2738</td>\n",
       "      <td>2738</td>\n",
       "      <td>0</td>\n",
       "      <td>1</td>\n",
       "    </tr>\n",
       "    <tr>\n",
       "      <th>7</th>\n",
       "      <td>17664</td>\n",
       "      <td>1401</td>\n",
       "      <td>13930</td>\n",
       "      <td>12896</td>\n",
       "      <td>6732</td>\n",
       "      <td>7367</td>\n",
       "      <td>2368</td>\n",
       "      <td>17938</td>\n",
       "      <td>2490</td>\n",
       "      <td>10734</td>\n",
       "      <td>...</td>\n",
       "      <td>2738</td>\n",
       "      <td>2738</td>\n",
       "      <td>2738</td>\n",
       "      <td>2738</td>\n",
       "      <td>2738</td>\n",
       "      <td>2738</td>\n",
       "      <td>2738</td>\n",
       "      <td>2738</td>\n",
       "      <td>0</td>\n",
       "      <td>1</td>\n",
       "    </tr>\n",
       "    <tr>\n",
       "      <th>8</th>\n",
       "      <td>17664</td>\n",
       "      <td>10226</td>\n",
       "      <td>10332</td>\n",
       "      <td>2189</td>\n",
       "      <td>14081</td>\n",
       "      <td>15557</td>\n",
       "      <td>15207</td>\n",
       "      <td>1401</td>\n",
       "      <td>10546</td>\n",
       "      <td>15104</td>\n",
       "      <td>...</td>\n",
       "      <td>2738</td>\n",
       "      <td>2738</td>\n",
       "      <td>2738</td>\n",
       "      <td>2738</td>\n",
       "      <td>2738</td>\n",
       "      <td>2738</td>\n",
       "      <td>2738</td>\n",
       "      <td>2738</td>\n",
       "      <td>0</td>\n",
       "      <td>1</td>\n",
       "    </tr>\n",
       "    <tr>\n",
       "      <th>10</th>\n",
       "      <td>17664</td>\n",
       "      <td>11371</td>\n",
       "      <td>2189</td>\n",
       "      <td>5385</td>\n",
       "      <td>10193</td>\n",
       "      <td>3826</td>\n",
       "      <td>1374</td>\n",
       "      <td>17295</td>\n",
       "      <td>6289</td>\n",
       "      <td>9970</td>\n",
       "      <td>...</td>\n",
       "      <td>2738</td>\n",
       "      <td>2738</td>\n",
       "      <td>2738</td>\n",
       "      <td>2738</td>\n",
       "      <td>2738</td>\n",
       "      <td>2738</td>\n",
       "      <td>2738</td>\n",
       "      <td>2738</td>\n",
       "      <td>0</td>\n",
       "      <td>1</td>\n",
       "    </tr>\n",
       "    <tr>\n",
       "      <th>11</th>\n",
       "      <td>17664</td>\n",
       "      <td>2154</td>\n",
       "      <td>16034</td>\n",
       "      <td>1401</td>\n",
       "      <td>2281</td>\n",
       "      <td>12318</td>\n",
       "      <td>2154</td>\n",
       "      <td>12896</td>\n",
       "      <td>15207</td>\n",
       "      <td>5136</td>\n",
       "      <td>...</td>\n",
       "      <td>2738</td>\n",
       "      <td>2738</td>\n",
       "      <td>2738</td>\n",
       "      <td>2738</td>\n",
       "      <td>2738</td>\n",
       "      <td>2738</td>\n",
       "      <td>2738</td>\n",
       "      <td>2738</td>\n",
       "      <td>0</td>\n",
       "      <td>1</td>\n",
       "    </tr>\n",
       "    <tr>\n",
       "      <th>12</th>\n",
       "      <td>17664</td>\n",
       "      <td>7707</td>\n",
       "      <td>4663</td>\n",
       "      <td>10526</td>\n",
       "      <td>4823</td>\n",
       "      <td>14734</td>\n",
       "      <td>12543</td>\n",
       "      <td>1374</td>\n",
       "      <td>19240</td>\n",
       "      <td>1851</td>\n",
       "      <td>...</td>\n",
       "      <td>2738</td>\n",
       "      <td>2738</td>\n",
       "      <td>2738</td>\n",
       "      <td>2738</td>\n",
       "      <td>2738</td>\n",
       "      <td>2738</td>\n",
       "      <td>2738</td>\n",
       "      <td>2738</td>\n",
       "      <td>0</td>\n",
       "      <td>1</td>\n",
       "    </tr>\n",
       "    <tr>\n",
       "      <th>13</th>\n",
       "      <td>17664</td>\n",
       "      <td>2189</td>\n",
       "      <td>13061</td>\n",
       "      <td>11266</td>\n",
       "      <td>3527</td>\n",
       "      <td>8712</td>\n",
       "      <td>16992</td>\n",
       "      <td>16992</td>\n",
       "      <td>17664</td>\n",
       "      <td>3527</td>\n",
       "      <td>...</td>\n",
       "      <td>2738</td>\n",
       "      <td>2738</td>\n",
       "      <td>2738</td>\n",
       "      <td>2738</td>\n",
       "      <td>2738</td>\n",
       "      <td>2738</td>\n",
       "      <td>2738</td>\n",
       "      <td>2738</td>\n",
       "      <td>0</td>\n",
       "      <td>1</td>\n",
       "    </tr>\n",
       "    <tr>\n",
       "      <th>15</th>\n",
       "      <td>17664</td>\n",
       "      <td>1005</td>\n",
       "      <td>1374</td>\n",
       "      <td>18328</td>\n",
       "      <td>15581</td>\n",
       "      <td>10332</td>\n",
       "      <td>2189</td>\n",
       "      <td>2857</td>\n",
       "      <td>3806</td>\n",
       "      <td>2368</td>\n",
       "      <td>...</td>\n",
       "      <td>2738</td>\n",
       "      <td>2738</td>\n",
       "      <td>2738</td>\n",
       "      <td>2738</td>\n",
       "      <td>2738</td>\n",
       "      <td>2738</td>\n",
       "      <td>2738</td>\n",
       "      <td>2738</td>\n",
       "      <td>0</td>\n",
       "      <td>1</td>\n",
       "    </tr>\n",
       "    <tr>\n",
       "      <th>17</th>\n",
       "      <td>17664</td>\n",
       "      <td>1401</td>\n",
       "      <td>2281</td>\n",
       "      <td>6714</td>\n",
       "      <td>15595</td>\n",
       "      <td>10336</td>\n",
       "      <td>3826</td>\n",
       "      <td>1374</td>\n",
       "      <td>15039</td>\n",
       "      <td>3386</td>\n",
       "      <td>...</td>\n",
       "      <td>2738</td>\n",
       "      <td>2738</td>\n",
       "      <td>2738</td>\n",
       "      <td>2738</td>\n",
       "      <td>2738</td>\n",
       "      <td>2738</td>\n",
       "      <td>2738</td>\n",
       "      <td>2738</td>\n",
       "      <td>0</td>\n",
       "      <td>1</td>\n",
       "    </tr>\n",
       "    <tr>\n",
       "      <th>19</th>\n",
       "      <td>17664</td>\n",
       "      <td>6732</td>\n",
       "      <td>9826</td>\n",
       "      <td>10546</td>\n",
       "      <td>16457</td>\n",
       "      <td>17664</td>\n",
       "      <td>15595</td>\n",
       "      <td>14555</td>\n",
       "      <td>18785</td>\n",
       "      <td>19209</td>\n",
       "      <td>...</td>\n",
       "      <td>2738</td>\n",
       "      <td>2738</td>\n",
       "      <td>2738</td>\n",
       "      <td>2738</td>\n",
       "      <td>2738</td>\n",
       "      <td>2738</td>\n",
       "      <td>2738</td>\n",
       "      <td>2738</td>\n",
       "      <td>0</td>\n",
       "      <td>1</td>\n",
       "    </tr>\n",
       "    <tr>\n",
       "      <th>21</th>\n",
       "      <td>17664</td>\n",
       "      <td>2154</td>\n",
       "      <td>11529</td>\n",
       "      <td>2189</td>\n",
       "      <td>568</td>\n",
       "      <td>16290</td>\n",
       "      <td>1374</td>\n",
       "      <td>4970</td>\n",
       "      <td>6563</td>\n",
       "      <td>2124</td>\n",
       "      <td>...</td>\n",
       "      <td>2738</td>\n",
       "      <td>2738</td>\n",
       "      <td>2738</td>\n",
       "      <td>2738</td>\n",
       "      <td>2738</td>\n",
       "      <td>2738</td>\n",
       "      <td>2738</td>\n",
       "      <td>2738</td>\n",
       "      <td>0</td>\n",
       "      <td>1</td>\n",
       "    </tr>\n",
       "    <tr>\n",
       "      <th>23</th>\n",
       "      <td>17664</td>\n",
       "      <td>18124</td>\n",
       "      <td>1374</td>\n",
       "      <td>12571</td>\n",
       "      <td>2368</td>\n",
       "      <td>6166</td>\n",
       "      <td>1851</td>\n",
       "      <td>12344</td>\n",
       "      <td>4823</td>\n",
       "      <td>17514</td>\n",
       "      <td>...</td>\n",
       "      <td>2738</td>\n",
       "      <td>2738</td>\n",
       "      <td>2738</td>\n",
       "      <td>2738</td>\n",
       "      <td>2738</td>\n",
       "      <td>2738</td>\n",
       "      <td>2738</td>\n",
       "      <td>2738</td>\n",
       "      <td>0</td>\n",
       "      <td>1</td>\n",
       "    </tr>\n",
       "    <tr>\n",
       "      <th>24</th>\n",
       "      <td>17664</td>\n",
       "      <td>1401</td>\n",
       "      <td>12896</td>\n",
       "      <td>2189</td>\n",
       "      <td>19368</td>\n",
       "      <td>2281</td>\n",
       "      <td>2154</td>\n",
       "      <td>16034</td>\n",
       "      <td>8512</td>\n",
       "      <td>9943</td>\n",
       "      <td>...</td>\n",
       "      <td>2738</td>\n",
       "      <td>2738</td>\n",
       "      <td>2738</td>\n",
       "      <td>2738</td>\n",
       "      <td>2738</td>\n",
       "      <td>2738</td>\n",
       "      <td>2738</td>\n",
       "      <td>2738</td>\n",
       "      <td>0</td>\n",
       "      <td>1</td>\n",
       "    </tr>\n",
       "    <tr>\n",
       "      <th>27</th>\n",
       "      <td>17664</td>\n",
       "      <td>1401</td>\n",
       "      <td>10546</td>\n",
       "      <td>12231</td>\n",
       "      <td>6563</td>\n",
       "      <td>12852</td>\n",
       "      <td>6537</td>\n",
       "      <td>11990</td>\n",
       "      <td>12518</td>\n",
       "      <td>12571</td>\n",
       "      <td>...</td>\n",
       "      <td>2738</td>\n",
       "      <td>2738</td>\n",
       "      <td>2738</td>\n",
       "      <td>2738</td>\n",
       "      <td>2738</td>\n",
       "      <td>2738</td>\n",
       "      <td>2738</td>\n",
       "      <td>2738</td>\n",
       "      <td>0</td>\n",
       "      <td>1</td>\n",
       "    </tr>\n",
       "    <tr>\n",
       "      <th>28</th>\n",
       "      <td>17664</td>\n",
       "      <td>1401</td>\n",
       "      <td>2281</td>\n",
       "      <td>12896</td>\n",
       "      <td>7707</td>\n",
       "      <td>16465</td>\n",
       "      <td>8712</td>\n",
       "      <td>17664</td>\n",
       "      <td>555</td>\n",
       "      <td>18060</td>\n",
       "      <td>...</td>\n",
       "      <td>2738</td>\n",
       "      <td>2738</td>\n",
       "      <td>2738</td>\n",
       "      <td>2738</td>\n",
       "      <td>2738</td>\n",
       "      <td>2738</td>\n",
       "      <td>2738</td>\n",
       "      <td>2738</td>\n",
       "      <td>0</td>\n",
       "      <td>1</td>\n",
       "    </tr>\n",
       "    <tr>\n",
       "      <th>32</th>\n",
       "      <td>17664</td>\n",
       "      <td>15039</td>\n",
       "      <td>18124</td>\n",
       "      <td>10091</td>\n",
       "      <td>6563</td>\n",
       "      <td>2189</td>\n",
       "      <td>3244</td>\n",
       "      <td>2490</td>\n",
       "      <td>10526</td>\n",
       "      <td>4823</td>\n",
       "      <td>...</td>\n",
       "      <td>2738</td>\n",
       "      <td>2738</td>\n",
       "      <td>2738</td>\n",
       "      <td>2738</td>\n",
       "      <td>2738</td>\n",
       "      <td>2738</td>\n",
       "      <td>2738</td>\n",
       "      <td>2738</td>\n",
       "      <td>0</td>\n",
       "      <td>1</td>\n",
       "    </tr>\n",
       "    <tr>\n",
       "      <th>34</th>\n",
       "      <td>17664</td>\n",
       "      <td>2154</td>\n",
       "      <td>4630</td>\n",
       "      <td>1401</td>\n",
       "      <td>10546</td>\n",
       "      <td>10526</td>\n",
       "      <td>13902</td>\n",
       "      <td>4107</td>\n",
       "      <td>15049</td>\n",
       "      <td>2368</td>\n",
       "      <td>...</td>\n",
       "      <td>2738</td>\n",
       "      <td>2738</td>\n",
       "      <td>2738</td>\n",
       "      <td>2738</td>\n",
       "      <td>2738</td>\n",
       "      <td>2738</td>\n",
       "      <td>2738</td>\n",
       "      <td>2738</td>\n",
       "      <td>0</td>\n",
       "      <td>1</td>\n",
       "    </tr>\n",
       "    <tr>\n",
       "      <th>35</th>\n",
       "      <td>17664</td>\n",
       "      <td>2154</td>\n",
       "      <td>4401</td>\n",
       "      <td>1401</td>\n",
       "      <td>10546</td>\n",
       "      <td>8512</td>\n",
       "      <td>3149</td>\n",
       "      <td>11750</td>\n",
       "      <td>13259</td>\n",
       "      <td>8151</td>\n",
       "      <td>...</td>\n",
       "      <td>2738</td>\n",
       "      <td>2738</td>\n",
       "      <td>2738</td>\n",
       "      <td>2738</td>\n",
       "      <td>2738</td>\n",
       "      <td>2738</td>\n",
       "      <td>2738</td>\n",
       "      <td>2738</td>\n",
       "      <td>0</td>\n",
       "      <td>1</td>\n",
       "    </tr>\n",
       "    <tr>\n",
       "      <th>36</th>\n",
       "      <td>17664</td>\n",
       "      <td>2189</td>\n",
       "      <td>15709</td>\n",
       "      <td>10193</td>\n",
       "      <td>15207</td>\n",
       "      <td>2189</td>\n",
       "      <td>11687</td>\n",
       "      <td>1374</td>\n",
       "      <td>15853</td>\n",
       "      <td>524</td>\n",
       "      <td>...</td>\n",
       "      <td>2738</td>\n",
       "      <td>2738</td>\n",
       "      <td>2738</td>\n",
       "      <td>2738</td>\n",
       "      <td>2738</td>\n",
       "      <td>2738</td>\n",
       "      <td>2738</td>\n",
       "      <td>2738</td>\n",
       "      <td>0</td>\n",
       "      <td>1</td>\n",
       "    </tr>\n",
       "    <tr>\n",
       "      <th>37</th>\n",
       "      <td>17664</td>\n",
       "      <td>12395</td>\n",
       "      <td>4630</td>\n",
       "      <td>4823</td>\n",
       "      <td>2281</td>\n",
       "      <td>12642</td>\n",
       "      <td>17412</td>\n",
       "      <td>2189</td>\n",
       "      <td>15709</td>\n",
       "      <td>7161</td>\n",
       "      <td>...</td>\n",
       "      <td>2738</td>\n",
       "      <td>2738</td>\n",
       "      <td>2738</td>\n",
       "      <td>2738</td>\n",
       "      <td>2738</td>\n",
       "      <td>2738</td>\n",
       "      <td>2738</td>\n",
       "      <td>2738</td>\n",
       "      <td>0</td>\n",
       "      <td>1</td>\n",
       "    </tr>\n",
       "  </tbody>\n",
       "</table>\n",
       "<p>40 rows × 1524 columns</p>\n",
       "</div>"
      ],
      "text/plain": [
       "       x0     x1     x2     x3     x4     x5     x6     x7     x8     x9  ...  \\\n",
       "0   17664   3826   1374   2189  13895  19035  18361  10508  12642     74  ...   \n",
       "1   17664   4823  13840  15853   1657   8712  16992  16992  17664   2189  ...   \n",
       "2   17664   2154    477   1401  12896   4823  13840  13421   6563  17657  ...   \n",
       "4   17664   3948   8652   1851   6059   3661  15581   2189   3854   1374  ...   \n",
       "5   17664  19205  15039   9249  18059   2281   2368   4823   7946   1374  ...   \n",
       "6   17664   2154   8669   7521   8581   6563  14699   4823   5531   1374  ...   \n",
       "9   17664  11590  11443   8581   1696   4145   5294  16537  11443  11141  ...   \n",
       "14  17664   1401   4823   8392   2281   1374  17252  12814    849   2534  ...   \n",
       "16  17664  19088   9970   6516   2252   5127  10526  12852   4617   8712  ...   \n",
       "18  17664   2154  11209   1401  10546   2368  15595  12896   2189  18124  ...   \n",
       "20  17664     74   2189   5355   1374   5921  13915  18264  15595   1851  ...   \n",
       "22  17664   9790   6732   5118  18100   2281   2368  11590  11443  18785  ...   \n",
       "25  17664   2189  14430  11428   7946  10305   4823  15853  17725  15207  ...   \n",
       "26  17664   6059   2189  10739   8304  10193   6732  15243  13717   2368  ...   \n",
       "29  17664  17917   2281   4622  10193   4823  11279   3092  12642  18361  ...   \n",
       "30  17664  12832  18264  11711  11703   2368  11977    932   1851  13256  ...   \n",
       "31  17664   6059  11317   3240   8304  10193   3826   1374   2189  19308  ...   \n",
       "33  17664   3826   1374   2189  13420  16747   9618   7941   2189    287  ...   \n",
       "38  17664    757   2368   7707   1401  14427   1005   1374   3321   2189  ...   \n",
       "41  17664   1401   2281  10193   6469  15104   2189  11097   2368   6059  ...   \n",
       "3   17664   5958   1526   1851   4823   7663   3945   4823  15853   7046  ...   \n",
       "7   17664   1401  13930  12896   6732   7367   2368  17938   2490  10734  ...   \n",
       "8   17664  10226  10332   2189  14081  15557  15207   1401  10546  15104  ...   \n",
       "10  17664  11371   2189   5385  10193   3826   1374  17295   6289   9970  ...   \n",
       "11  17664   2154  16034   1401   2281  12318   2154  12896  15207   5136  ...   \n",
       "12  17664   7707   4663  10526   4823  14734  12543   1374  19240   1851  ...   \n",
       "13  17664   2189  13061  11266   3527   8712  16992  16992  17664   3527  ...   \n",
       "15  17664   1005   1374  18328  15581  10332   2189   2857   3806   2368  ...   \n",
       "17  17664   1401   2281   6714  15595  10336   3826   1374  15039   3386  ...   \n",
       "19  17664   6732   9826  10546  16457  17664  15595  14555  18785  19209  ...   \n",
       "21  17664   2154  11529   2189    568  16290   1374   4970   6563   2124  ...   \n",
       "23  17664  18124   1374  12571   2368   6166   1851  12344   4823  17514  ...   \n",
       "24  17664   1401  12896   2189  19368   2281   2154  16034   8512   9943  ...   \n",
       "27  17664   1401  10546  12231   6563  12852   6537  11990  12518  12571  ...   \n",
       "28  17664   1401   2281  12896   7707  16465   8712  17664    555  18060  ...   \n",
       "32  17664  15039  18124  10091   6563   2189   3244   2490  10526   4823  ...   \n",
       "34  17664   2154   4630   1401  10546  10526  13902   4107  15049   2368  ...   \n",
       "35  17664   2154   4401   1401  10546   8512   3149  11750  13259   8151  ...   \n",
       "36  17664   2189  15709  10193  15207   2189  11687   1374  15853    524  ...   \n",
       "37  17664  12395   4630   4823   2281  12642  17412   2189  15709   7161  ...   \n",
       "\n",
       "    x1514  x1515  x1516  x1517  x1518  x1519  x1520  x1521  y0  y1  \n",
       "0    2738   2738   2738   2738   2738   2738   2738   2738   1   0  \n",
       "1    2738   2738   2738   2738   2738   2738   2738   2738   1   0  \n",
       "2    2738   2738   2738   2738   2738   2738   2738   2738   1   0  \n",
       "4    2738   2738   2738   2738   2738   2738   2738   2738   1   0  \n",
       "5    2738   2738   2738   2738   2738   2738   2738   2738   1   0  \n",
       "6    2738   2738   2738   2738   2738   2738   2738   2738   1   0  \n",
       "9    2738   2738   2738   2738   2738   2738   2738   2738   1   0  \n",
       "14   2738   2738   2738   2738   2738   2738   2738   2738   1   0  \n",
       "16   2738   2738   2738   2738   2738   2738   2738   2738   1   0  \n",
       "18   2738   2738   2738   2738   2738   2738   2738   2738   1   0  \n",
       "20   2738   2738   2738   2738   2738   2738   2738   2738   1   0  \n",
       "22   2738   2738   2738   2738   2738   2738   2738   2738   1   0  \n",
       "25   2738   2738   2738   2738   2738   2738   2738   2738   1   0  \n",
       "26   2738   2738   2738   2738   2738   2738   2738   2738   1   0  \n",
       "29   2738   2738   2738   2738   2738   2738   2738   2738   1   0  \n",
       "30   2738   2738   2738   2738   2738   2738   2738   2738   1   0  \n",
       "31   2738   2738   2738   2738   2738   2738   2738   2738   1   0  \n",
       "33   2738   2738   2738   2738   2738   2738   2738   2738   1   0  \n",
       "38   2738   2738   2738   2738   2738   2738   2738   2738   1   0  \n",
       "41   2738   2738   2738   2738   2738   2738   2738   2738   1   0  \n",
       "3    2738   2738   2738   2738   2738   2738   2738   2738   0   1  \n",
       "7    2738   2738   2738   2738   2738   2738   2738   2738   0   1  \n",
       "8    2738   2738   2738   2738   2738   2738   2738   2738   0   1  \n",
       "10   2738   2738   2738   2738   2738   2738   2738   2738   0   1  \n",
       "11   2738   2738   2738   2738   2738   2738   2738   2738   0   1  \n",
       "12   2738   2738   2738   2738   2738   2738   2738   2738   0   1  \n",
       "13   2738   2738   2738   2738   2738   2738   2738   2738   0   1  \n",
       "15   2738   2738   2738   2738   2738   2738   2738   2738   0   1  \n",
       "17   2738   2738   2738   2738   2738   2738   2738   2738   0   1  \n",
       "19   2738   2738   2738   2738   2738   2738   2738   2738   0   1  \n",
       "21   2738   2738   2738   2738   2738   2738   2738   2738   0   1  \n",
       "23   2738   2738   2738   2738   2738   2738   2738   2738   0   1  \n",
       "24   2738   2738   2738   2738   2738   2738   2738   2738   0   1  \n",
       "27   2738   2738   2738   2738   2738   2738   2738   2738   0   1  \n",
       "28   2738   2738   2738   2738   2738   2738   2738   2738   0   1  \n",
       "32   2738   2738   2738   2738   2738   2738   2738   2738   0   1  \n",
       "34   2738   2738   2738   2738   2738   2738   2738   2738   0   1  \n",
       "35   2738   2738   2738   2738   2738   2738   2738   2738   0   1  \n",
       "36   2738   2738   2738   2738   2738   2738   2738   2738   0   1  \n",
       "37   2738   2738   2738   2738   2738   2738   2738   2738   0   1  \n",
       "\n",
       "[40 rows x 1524 columns]"
      ]
     },
     "execution_count": 5,
     "metadata": {},
     "output_type": "execute_result"
    }
   ],
   "source": [
    "# train - 20 positive, 20 negative\n",
    "# test - 5 positive, 5 negative\n",
    "\n",
    "positive_mask = df.y0 == 1\n",
    "negative_mask = df.y0 == 0\n",
    "\n",
    "positive_reviews = df[positive_mask]\n",
    "negative_reviews = df[negative_mask]\n",
    "\n",
    "train = pd.concat([positive_reviews.iloc[:20,:], negative_reviews.iloc[:20,:]])\n",
    "test = pd.concat([positive_reviews.iloc[20:25,:], negative_reviews.iloc[20:25,:]])\n",
    "train"
   ]
  },
  {
   "cell_type": "code",
   "execution_count": 6,
   "metadata": {},
   "outputs": [
    {
     "data": {
      "text/html": [
       "<div>\n",
       "<style scoped>\n",
       "    .dataframe tbody tr th:only-of-type {\n",
       "        vertical-align: middle;\n",
       "    }\n",
       "\n",
       "    .dataframe tbody tr th {\n",
       "        vertical-align: top;\n",
       "    }\n",
       "\n",
       "    .dataframe thead th {\n",
       "        text-align: right;\n",
       "    }\n",
       "</style>\n",
       "<table border=\"1\" class=\"dataframe\">\n",
       "  <thead>\n",
       "    <tr style=\"text-align: right;\">\n",
       "      <th></th>\n",
       "      <th>x0</th>\n",
       "      <th>x1</th>\n",
       "      <th>x2</th>\n",
       "      <th>x3</th>\n",
       "      <th>x4</th>\n",
       "      <th>x5</th>\n",
       "      <th>x6</th>\n",
       "      <th>x7</th>\n",
       "      <th>x8</th>\n",
       "      <th>x9</th>\n",
       "      <th>...</th>\n",
       "      <th>x1514</th>\n",
       "      <th>x1515</th>\n",
       "      <th>x1516</th>\n",
       "      <th>x1517</th>\n",
       "      <th>x1518</th>\n",
       "      <th>x1519</th>\n",
       "      <th>x1520</th>\n",
       "      <th>x1521</th>\n",
       "      <th>y0</th>\n",
       "      <th>y1</th>\n",
       "    </tr>\n",
       "  </thead>\n",
       "  <tbody>\n",
       "    <tr>\n",
       "      <th>44</th>\n",
       "      <td>17664</td>\n",
       "      <td>1401</td>\n",
       "      <td>2281</td>\n",
       "      <td>1552</td>\n",
       "      <td>9697</td>\n",
       "      <td>11750</td>\n",
       "      <td>4790</td>\n",
       "      <td>8712</td>\n",
       "      <td>17664</td>\n",
       "      <td>9388</td>\n",
       "      <td>...</td>\n",
       "      <td>2738</td>\n",
       "      <td>2738</td>\n",
       "      <td>2738</td>\n",
       "      <td>2738</td>\n",
       "      <td>2738</td>\n",
       "      <td>2738</td>\n",
       "      <td>2738</td>\n",
       "      <td>2738</td>\n",
       "      <td>1</td>\n",
       "      <td>0</td>\n",
       "    </tr>\n",
       "    <tr>\n",
       "      <th>45</th>\n",
       "      <td>17664</td>\n",
       "      <td>8351</td>\n",
       "      <td>4823</td>\n",
       "      <td>5907</td>\n",
       "      <td>2368</td>\n",
       "      <td>2154</td>\n",
       "      <td>18816</td>\n",
       "      <td>1078</td>\n",
       "      <td>2189</td>\n",
       "      <td>2281</td>\n",
       "      <td>...</td>\n",
       "      <td>2738</td>\n",
       "      <td>2738</td>\n",
       "      <td>2738</td>\n",
       "      <td>2738</td>\n",
       "      <td>2738</td>\n",
       "      <td>2738</td>\n",
       "      <td>2738</td>\n",
       "      <td>2738</td>\n",
       "      <td>1</td>\n",
       "      <td>0</td>\n",
       "    </tr>\n",
       "    <tr>\n",
       "      <th>48</th>\n",
       "      <td>17664</td>\n",
       "      <td>18047</td>\n",
       "      <td>9794</td>\n",
       "      <td>4622</td>\n",
       "      <td>2189</td>\n",
       "      <td>8920</td>\n",
       "      <td>18264</td>\n",
       "      <td>2189</td>\n",
       "      <td>7149</td>\n",
       "      <td>12896</td>\n",
       "      <td>...</td>\n",
       "      <td>2738</td>\n",
       "      <td>2738</td>\n",
       "      <td>2738</td>\n",
       "      <td>2738</td>\n",
       "      <td>2738</td>\n",
       "      <td>2738</td>\n",
       "      <td>2738</td>\n",
       "      <td>2738</td>\n",
       "      <td>1</td>\n",
       "      <td>0</td>\n",
       "    </tr>\n",
       "    <tr>\n",
       "      <th>50</th>\n",
       "      <td>17664</td>\n",
       "      <td>5214</td>\n",
       "      <td>6563</td>\n",
       "      <td>2189</td>\n",
       "      <td>865</td>\n",
       "      <td>948</td>\n",
       "      <td>10193</td>\n",
       "      <td>3826</td>\n",
       "      <td>1374</td>\n",
       "      <td>17295</td>\n",
       "      <td>...</td>\n",
       "      <td>2738</td>\n",
       "      <td>2738</td>\n",
       "      <td>2738</td>\n",
       "      <td>2738</td>\n",
       "      <td>2738</td>\n",
       "      <td>2738</td>\n",
       "      <td>2738</td>\n",
       "      <td>2738</td>\n",
       "      <td>1</td>\n",
       "      <td>0</td>\n",
       "    </tr>\n",
       "    <tr>\n",
       "      <th>51</th>\n",
       "      <td>17664</td>\n",
       "      <td>13077</td>\n",
       "      <td>13077</td>\n",
       "      <td>13077</td>\n",
       "      <td>4266</td>\n",
       "      <td>13077</td>\n",
       "      <td>13077</td>\n",
       "      <td>13077</td>\n",
       "      <td>12571</td>\n",
       "      <td>6537</td>\n",
       "      <td>...</td>\n",
       "      <td>2738</td>\n",
       "      <td>2738</td>\n",
       "      <td>2738</td>\n",
       "      <td>2738</td>\n",
       "      <td>2738</td>\n",
       "      <td>2738</td>\n",
       "      <td>2738</td>\n",
       "      <td>2738</td>\n",
       "      <td>1</td>\n",
       "      <td>0</td>\n",
       "    </tr>\n",
       "    <tr>\n",
       "      <th>39</th>\n",
       "      <td>17664</td>\n",
       "      <td>74</td>\n",
       "      <td>711</td>\n",
       "      <td>14641</td>\n",
       "      <td>1401</td>\n",
       "      <td>8434</td>\n",
       "      <td>1374</td>\n",
       "      <td>3001</td>\n",
       "      <td>2368</td>\n",
       "      <td>15039</td>\n",
       "      <td>...</td>\n",
       "      <td>2738</td>\n",
       "      <td>2738</td>\n",
       "      <td>2738</td>\n",
       "      <td>2738</td>\n",
       "      <td>2738</td>\n",
       "      <td>2738</td>\n",
       "      <td>2738</td>\n",
       "      <td>2738</td>\n",
       "      <td>0</td>\n",
       "      <td>1</td>\n",
       "    </tr>\n",
       "    <tr>\n",
       "      <th>40</th>\n",
       "      <td>17664</td>\n",
       "      <td>15595</td>\n",
       "      <td>11529</td>\n",
       "      <td>12571</td>\n",
       "      <td>2189</td>\n",
       "      <td>11828</td>\n",
       "      <td>1374</td>\n",
       "      <td>15707</td>\n",
       "      <td>1374</td>\n",
       "      <td>1401</td>\n",
       "      <td>...</td>\n",
       "      <td>2738</td>\n",
       "      <td>2738</td>\n",
       "      <td>2738</td>\n",
       "      <td>2738</td>\n",
       "      <td>2738</td>\n",
       "      <td>2738</td>\n",
       "      <td>2738</td>\n",
       "      <td>2738</td>\n",
       "      <td>0</td>\n",
       "      <td>1</td>\n",
       "    </tr>\n",
       "    <tr>\n",
       "      <th>42</th>\n",
       "      <td>17664</td>\n",
       "      <td>1374</td>\n",
       "      <td>12571</td>\n",
       "      <td>2189</td>\n",
       "      <td>9970</td>\n",
       "      <td>2154</td>\n",
       "      <td>18785</td>\n",
       "      <td>1078</td>\n",
       "      <td>2368</td>\n",
       "      <td>1401</td>\n",
       "      <td>...</td>\n",
       "      <td>2738</td>\n",
       "      <td>2738</td>\n",
       "      <td>2738</td>\n",
       "      <td>2738</td>\n",
       "      <td>2738</td>\n",
       "      <td>2738</td>\n",
       "      <td>2738</td>\n",
       "      <td>2738</td>\n",
       "      <td>0</td>\n",
       "      <td>1</td>\n",
       "    </tr>\n",
       "    <tr>\n",
       "      <th>43</th>\n",
       "      <td>17664</td>\n",
       "      <td>2154</td>\n",
       "      <td>11529</td>\n",
       "      <td>9038</td>\n",
       "      <td>7830</td>\n",
       "      <td>12518</td>\n",
       "      <td>15207</td>\n",
       "      <td>6059</td>\n",
       "      <td>5240</td>\n",
       "      <td>1374</td>\n",
       "      <td>...</td>\n",
       "      <td>2738</td>\n",
       "      <td>2738</td>\n",
       "      <td>2738</td>\n",
       "      <td>2738</td>\n",
       "      <td>2738</td>\n",
       "      <td>2738</td>\n",
       "      <td>2738</td>\n",
       "      <td>2738</td>\n",
       "      <td>0</td>\n",
       "      <td>1</td>\n",
       "    </tr>\n",
       "    <tr>\n",
       "      <th>46</th>\n",
       "      <td>17664</td>\n",
       "      <td>16433</td>\n",
       "      <td>10193</td>\n",
       "      <td>6732</td>\n",
       "      <td>14279</td>\n",
       "      <td>2281</td>\n",
       "      <td>349</td>\n",
       "      <td>13390</td>\n",
       "      <td>15964</td>\n",
       "      <td>9158</td>\n",
       "      <td>...</td>\n",
       "      <td>2738</td>\n",
       "      <td>2738</td>\n",
       "      <td>2738</td>\n",
       "      <td>2738</td>\n",
       "      <td>2738</td>\n",
       "      <td>2738</td>\n",
       "      <td>2738</td>\n",
       "      <td>2738</td>\n",
       "      <td>0</td>\n",
       "      <td>1</td>\n",
       "    </tr>\n",
       "  </tbody>\n",
       "</table>\n",
       "<p>10 rows × 1524 columns</p>\n",
       "</div>"
      ],
      "text/plain": [
       "       x0     x1     x2     x3     x4     x5     x6     x7     x8     x9  ...  \\\n",
       "44  17664   1401   2281   1552   9697  11750   4790   8712  17664   9388  ...   \n",
       "45  17664   8351   4823   5907   2368   2154  18816   1078   2189   2281  ...   \n",
       "48  17664  18047   9794   4622   2189   8920  18264   2189   7149  12896  ...   \n",
       "50  17664   5214   6563   2189    865    948  10193   3826   1374  17295  ...   \n",
       "51  17664  13077  13077  13077   4266  13077  13077  13077  12571   6537  ...   \n",
       "39  17664     74    711  14641   1401   8434   1374   3001   2368  15039  ...   \n",
       "40  17664  15595  11529  12571   2189  11828   1374  15707   1374   1401  ...   \n",
       "42  17664   1374  12571   2189   9970   2154  18785   1078   2368   1401  ...   \n",
       "43  17664   2154  11529   9038   7830  12518  15207   6059   5240   1374  ...   \n",
       "46  17664  16433  10193   6732  14279   2281    349  13390  15964   9158  ...   \n",
       "\n",
       "    x1514  x1515  x1516  x1517  x1518  x1519  x1520  x1521  y0  y1  \n",
       "44   2738   2738   2738   2738   2738   2738   2738   2738   1   0  \n",
       "45   2738   2738   2738   2738   2738   2738   2738   2738   1   0  \n",
       "48   2738   2738   2738   2738   2738   2738   2738   2738   1   0  \n",
       "50   2738   2738   2738   2738   2738   2738   2738   2738   1   0  \n",
       "51   2738   2738   2738   2738   2738   2738   2738   2738   1   0  \n",
       "39   2738   2738   2738   2738   2738   2738   2738   2738   0   1  \n",
       "40   2738   2738   2738   2738   2738   2738   2738   2738   0   1  \n",
       "42   2738   2738   2738   2738   2738   2738   2738   2738   0   1  \n",
       "43   2738   2738   2738   2738   2738   2738   2738   2738   0   1  \n",
       "46   2738   2738   2738   2738   2738   2738   2738   2738   0   1  \n",
       "\n",
       "[10 rows x 1524 columns]"
      ]
     },
     "execution_count": 6,
     "metadata": {},
     "output_type": "execute_result"
    }
   ],
   "source": [
    "test"
   ]
  },
  {
   "cell_type": "code",
   "execution_count": 7,
   "metadata": {},
   "outputs": [
    {
     "data": {
      "text/html": [
       "<div>\n",
       "<style scoped>\n",
       "    .dataframe tbody tr th:only-of-type {\n",
       "        vertical-align: middle;\n",
       "    }\n",
       "\n",
       "    .dataframe tbody tr th {\n",
       "        vertical-align: top;\n",
       "    }\n",
       "\n",
       "    .dataframe thead th {\n",
       "        text-align: right;\n",
       "    }\n",
       "</style>\n",
       "<table border=\"1\" class=\"dataframe\">\n",
       "  <thead>\n",
       "    <tr style=\"text-align: right;\">\n",
       "      <th></th>\n",
       "      <th>y0</th>\n",
       "      <th>y1</th>\n",
       "    </tr>\n",
       "  </thead>\n",
       "  <tbody>\n",
       "    <tr>\n",
       "      <th>44</th>\n",
       "      <td>1</td>\n",
       "      <td>0</td>\n",
       "    </tr>\n",
       "    <tr>\n",
       "      <th>45</th>\n",
       "      <td>1</td>\n",
       "      <td>0</td>\n",
       "    </tr>\n",
       "    <tr>\n",
       "      <th>48</th>\n",
       "      <td>1</td>\n",
       "      <td>0</td>\n",
       "    </tr>\n",
       "    <tr>\n",
       "      <th>50</th>\n",
       "      <td>1</td>\n",
       "      <td>0</td>\n",
       "    </tr>\n",
       "    <tr>\n",
       "      <th>51</th>\n",
       "      <td>1</td>\n",
       "      <td>0</td>\n",
       "    </tr>\n",
       "    <tr>\n",
       "      <th>39</th>\n",
       "      <td>0</td>\n",
       "      <td>1</td>\n",
       "    </tr>\n",
       "    <tr>\n",
       "      <th>40</th>\n",
       "      <td>0</td>\n",
       "      <td>1</td>\n",
       "    </tr>\n",
       "    <tr>\n",
       "      <th>42</th>\n",
       "      <td>0</td>\n",
       "      <td>1</td>\n",
       "    </tr>\n",
       "    <tr>\n",
       "      <th>43</th>\n",
       "      <td>0</td>\n",
       "      <td>1</td>\n",
       "    </tr>\n",
       "    <tr>\n",
       "      <th>46</th>\n",
       "      <td>0</td>\n",
       "      <td>1</td>\n",
       "    </tr>\n",
       "  </tbody>\n",
       "</table>\n",
       "</div>"
      ],
      "text/plain": [
       "    y0  y1\n",
       "44   1   0\n",
       "45   1   0\n",
       "48   1   0\n",
       "50   1   0\n",
       "51   1   0\n",
       "39   0   1\n",
       "40   0   1\n",
       "42   0   1\n",
       "43   0   1\n",
       "46   0   1"
      ]
     },
     "execution_count": 7,
     "metadata": {},
     "output_type": "execute_result"
    }
   ],
   "source": [
    "train_x, train_y = train.iloc[:,:-2], train.iloc[:,-2:]\n",
    "test_x, test_y = test.iloc[:,:-2], test.iloc[:,-2:]\n",
    "test_y"
   ]
  },
  {
   "cell_type": "code",
   "execution_count": 8,
   "metadata": {},
   "outputs": [],
   "source": [
    "class TransformerModule(nn.Module):\n",
    "    def __init__(self, vocabulary_size, max_length, d_model):\n",
    "        super().__init__()\n",
    "        self.max_length = max_length\n",
    "        self.d_model = d_model\n",
    "\n",
    "        # apparently nn.Embedding should take vocabulary size as first argument\n",
    "        # if we pass a number greater than the first argument we get an IndexError\n",
    "        # in our dataset, the number of words greatly exceeds the length of the max sentence\n",
    "        # so max length is unfit to be first argument here\n",
    "        self.embedding = nn.Embedding(vocabulary_size, d_model)\n",
    "        self.relu = nn.ReLU()\n",
    "        self.softmax = nn.Softmax(dim=1)\n",
    "\n",
    "        global DEVICE\n",
    "        self.device = 'cpu'\n",
    "        if 'DEVICE' in globals():\n",
    "            self.device = DEVICE\n",
    "\n",
    "        self.V = nn.Parameter(torch.rand(max_length, d_model).to(self.device))\n",
    "\n",
    "    def gen_pe(self, n):\n",
    "        pe = np.zeros((self.max_length, self.d_model), dtype=np.float32)\n",
    "        for k in np.arange(self.max_length):\n",
    "            for i in np.arange(self.d_model):\n",
    "                theta = k / (n ** (i/self.d_model))\n",
    "                if i % 2 == 0:\n",
    "                    pe[k,i] = math.sin(theta)\n",
    "                else:\n",
    "                    pe[k,i] = math.cos(theta)\n",
    "        return pe\n",
    "    \n",
    "    def forward(self, x: torch.FloatTensor):\n",
    "        # x is a lookup tensor\n",
    "        initial_embeddings = self.relu(self.embedding(x))\n",
    "        positional_embeddings = torch.tensor(self.gen_pe(1000)).to(self.device)\n",
    "        \n",
    "        input_embeddings = torch.add(initial_embeddings, positional_embeddings)\n",
    "\n",
    "        _ = torch.matmul(input_embeddings, torch.transpose(input_embeddings, 0 , 1))\n",
    "        _ = torch.divide(_, math.sqrt(self.d_model))\n",
    "        _ = self.softmax(_)\n",
    "\n",
    "        return self.relu(torch.matmul(_,self.V))"
   ]
  },
  {
   "cell_type": "code",
   "execution_count": 9,
   "metadata": {},
   "outputs": [],
   "source": [
    "class ClassificationHead(nn.Module):\n",
    "    def __init__(self, embedding_length, head_length):\n",
    "        super().__init__()\n",
    "        self.embedding_length = embedding_length\n",
    "        self.head_length = head_length\n",
    "\n",
    "        self.output_layer = nn.Linear(self.embedding_length, self.head_length)\n",
    "    \n",
    "    def forward(self, x):\n",
    "        y = self.output_layer(x)\n",
    "\n",
    "        # no more sigmoid; we will use BCEWithLogitsLoss which uses a starting sigmoid layer and is more numerically stable\n",
    "        return y"
   ]
  },
  {
   "cell_type": "code",
   "execution_count": 10,
   "metadata": {},
   "outputs": [],
   "source": [
    "class Classifier(nn.Module):\n",
    "    def __init__(self, vocabulary_size, max_length, d_model, head_length):\n",
    "        super().__init__()\n",
    "        self.vocabulary_size = vocabulary_size\n",
    "        self.max_length = max_length\n",
    "        self.d_model = d_model\n",
    "        self.head_length = head_length\n",
    "        self.expected_unravel_length = max_length * d_model\n",
    "        \n",
    "        self.body = TransformerModule(self.vocabulary_size, self.max_length, self.d_model)\n",
    "        self.head = ClassificationHead(self.expected_unravel_length, self.head_length)\n",
    "\n",
    "    def forward(self, x):\n",
    "        x = self.body(x)\n",
    "        x = x.view(-1)\n",
    "        x = self.head(x)\n",
    "        # softmax removed; inherently applied by CE, and not applied by BCE\n",
    "        return x"
   ]
  },
  {
   "cell_type": "code",
   "execution_count": 11,
   "metadata": {},
   "outputs": [],
   "source": [
    "class MyCustomDataset(Dataset):\n",
    "    def __init__(self, x, y):\n",
    "        self.x = torch.Tensor(x)\n",
    "        self.y = torch.Tensor(y)\n",
    "        self.n_samples = len(x)\n",
    "    \n",
    "    def __getitem__(self, index):\n",
    "        return self.x[index], self.y[index]\n",
    "    \n",
    "    def __len__(self):\n",
    "        return self.n_samples\n",
    "\n",
    "custom_dataset = MyCustomDataset(train_x.values, train_y.values)\n",
    "\n",
    "loader = DataLoader(\n",
    "    custom_dataset,\n",
    "    batch_size = 5,\n",
    "    shuffle = False\n",
    ")"
   ]
  },
  {
   "cell_type": "code",
   "execution_count": 12,
   "metadata": {},
   "outputs": [],
   "source": [
    "def train_fn(loader, model, optimizer, loss_fn, device=\"cpu\"):\n",
    "    loop = tqdm(loader)\n",
    "\n",
    "    average_loss = 0\n",
    "    count = 0\n",
    "\n",
    "    for batch_idx, (data, targets) in enumerate(loop):\n",
    "        data = data.to(device=device).long()\n",
    "        targets = targets.to(device=device)\n",
    "        # print(data.shape)\n",
    "        # print(targets.shape)\n",
    "\n",
    "        for inst_idx in range(data.shape[0]):\n",
    "            # Forward\n",
    "            predictions = model.forward(data[inst_idx])\n",
    "            loss = loss_fn(predictions, targets[inst_idx])\n",
    "            # Backward\n",
    "            optimizer.zero_grad()\n",
    "\n",
    "            loss.backward()\n",
    "\n",
    "            optimizer.step()\n",
    "\n",
    "            # Update tqdm\n",
    "            loop.set_postfix(loss=loss.item())\n",
    "\n",
    "            average_loss += loss.item()\n",
    "            count += 1\n",
    "\n",
    "    average_loss = average_loss / count\n",
    "\n",
    "    return average_loss"
   ]
  },
  {
   "cell_type": "markdown",
   "metadata": {},
   "source": [
    "##### Note that starting `Epoch 2` up until `Epoch 100` for every n s.t. n % 2 = 0, ave_loss(n + 1) <  ave_loss(n), thus showing that average loss is going down per epoch."
   ]
  },
  {
   "cell_type": "code",
   "execution_count": 13,
   "metadata": {},
   "outputs": [
    {
     "name": "stderr",
     "output_type": "stream",
     "text": [
      "100%|██████████| 8/8 [00:04<00:00,  1.62it/s, loss=0]   \n"
     ]
    },
    {
     "name": "stdout",
     "output_type": "stream",
     "text": [
      "Epoch 1: 43.29619160294533\n"
     ]
    },
    {
     "name": "stderr",
     "output_type": "stream",
     "text": [
      "100%|██████████| 8/8 [00:06<00:00,  1.17it/s, loss=0]      \n"
     ]
    },
    {
     "name": "stdout",
     "output_type": "stream",
     "text": [
      "Epoch 2: 223.03058290480658\n"
     ]
    },
    {
     "name": "stderr",
     "output_type": "stream",
     "text": [
      "100%|██████████| 8/8 [00:04<00:00,  1.65it/s, loss=0]   \n"
     ]
    },
    {
     "name": "stdout",
     "output_type": "stream",
     "text": [
      "Epoch 3: 161.9427566051483\n"
     ]
    },
    {
     "name": "stderr",
     "output_type": "stream",
     "text": [
      "100%|██████████| 8/8 [00:05<00:00,  1.42it/s, loss=0]   \n"
     ]
    },
    {
     "name": "stdout",
     "output_type": "stream",
     "text": [
      "Epoch 4: 138.77342677116394\n"
     ]
    },
    {
     "name": "stderr",
     "output_type": "stream",
     "text": [
      "100%|██████████| 8/8 [00:04<00:00,  1.75it/s, loss=0]   \n"
     ]
    },
    {
     "name": "stdout",
     "output_type": "stream",
     "text": [
      "Epoch 5: 121.69978597164155\n"
     ]
    },
    {
     "name": "stderr",
     "output_type": "stream",
     "text": [
      "100%|██████████| 8/8 [00:05<00:00,  1.40it/s, loss=0]   \n"
     ]
    },
    {
     "name": "stdout",
     "output_type": "stream",
     "text": [
      "Epoch 6: 107.1920020222664\n"
     ]
    },
    {
     "name": "stderr",
     "output_type": "stream",
     "text": [
      "100%|██████████| 8/8 [00:07<00:00,  1.10it/s, loss=0]   \n"
     ]
    },
    {
     "name": "stdout",
     "output_type": "stream",
     "text": [
      "Epoch 7: 94.2774814248085\n"
     ]
    },
    {
     "name": "stderr",
     "output_type": "stream",
     "text": [
      "100%|██████████| 8/8 [00:04<00:00,  1.70it/s, loss=0]      \n"
     ]
    },
    {
     "name": "stdout",
     "output_type": "stream",
     "text": [
      "Epoch 8: 82.44003247916699\n"
     ]
    },
    {
     "name": "stderr",
     "output_type": "stream",
     "text": [
      "100%|██████████| 8/8 [00:06<00:00,  1.18it/s, loss=0]      \n"
     ]
    },
    {
     "name": "stdout",
     "output_type": "stream",
     "text": [
      "Epoch 9: 71.41234919869513\n"
     ]
    },
    {
     "name": "stderr",
     "output_type": "stream",
     "text": [
      "100%|██████████| 8/8 [00:08<00:00,  1.10s/it, loss=0]      \n"
     ]
    },
    {
     "name": "stdout",
     "output_type": "stream",
     "text": [
      "Epoch 10: 56.11330948454558\n"
     ]
    },
    {
     "name": "stderr",
     "output_type": "stream",
     "text": [
      "100%|██████████| 8/8 [00:09<00:00,  1.16s/it, loss=0]      \n"
     ]
    },
    {
     "name": "stdout",
     "output_type": "stream",
     "text": [
      "Epoch 11: 43.10703712268672\n"
     ]
    },
    {
     "name": "stderr",
     "output_type": "stream",
     "text": [
      "100%|██████████| 8/8 [00:06<00:00,  1.33it/s, loss=0]      \n"
     ]
    },
    {
     "name": "stdout",
     "output_type": "stream",
     "text": [
      "Epoch 12: 37.04046649020493\n"
     ]
    },
    {
     "name": "stderr",
     "output_type": "stream",
     "text": [
      "100%|██████████| 8/8 [00:08<00:00,  1.06s/it, loss=0]      \n"
     ]
    },
    {
     "name": "stdout",
     "output_type": "stream",
     "text": [
      "Epoch 13: 31.41863469779488\n"
     ]
    },
    {
     "name": "stderr",
     "output_type": "stream",
     "text": [
      "100%|██████████| 8/8 [00:04<00:00,  1.84it/s, loss=0]      \n"
     ]
    },
    {
     "name": "stdout",
     "output_type": "stream",
     "text": [
      "Epoch 14: 25.447931685764342\n"
     ]
    },
    {
     "name": "stderr",
     "output_type": "stream",
     "text": [
      "100%|██████████| 8/8 [00:03<00:00,  2.12it/s, loss=0]      \n"
     ]
    },
    {
     "name": "stdout",
     "output_type": "stream",
     "text": [
      "Epoch 15: 14.458094190595673\n"
     ]
    },
    {
     "name": "stderr",
     "output_type": "stream",
     "text": [
      "100%|██████████| 8/8 [00:03<00:00,  2.03it/s, loss=0]       \n"
     ]
    },
    {
     "name": "stdout",
     "output_type": "stream",
     "text": [
      "Epoch 16: 6.100048968330036\n"
     ]
    },
    {
     "name": "stderr",
     "output_type": "stream",
     "text": [
      "100%|██████████| 8/8 [00:03<00:00,  2.01it/s, loss=0]       \n"
     ]
    },
    {
     "name": "stdout",
     "output_type": "stream",
     "text": [
      "Epoch 17: 1.4219501994264996\n"
     ]
    },
    {
     "name": "stderr",
     "output_type": "stream",
     "text": [
      "100%|██████████| 8/8 [00:04<00:00,  1.98it/s, loss=0]      \n"
     ]
    },
    {
     "name": "stdout",
     "output_type": "stream",
     "text": [
      "Epoch 18: 0.9200806865583246\n"
     ]
    },
    {
     "name": "stderr",
     "output_type": "stream",
     "text": [
      "100%|██████████| 8/8 [00:04<00:00,  1.93it/s, loss=0]       \n"
     ]
    },
    {
     "name": "stdout",
     "output_type": "stream",
     "text": [
      "Epoch 19: 0.9073669112531254\n"
     ]
    },
    {
     "name": "stderr",
     "output_type": "stream",
     "text": [
      "100%|██████████| 8/8 [00:03<00:00,  2.09it/s, loss=0]       \n"
     ]
    },
    {
     "name": "stdout",
     "output_type": "stream",
     "text": [
      "Epoch 20: 0.4330768512851776\n"
     ]
    },
    {
     "name": "stderr",
     "output_type": "stream",
     "text": [
      "100%|██████████| 8/8 [00:03<00:00,  2.05it/s, loss=1.79e-7] \n"
     ]
    },
    {
     "name": "stdout",
     "output_type": "stream",
     "text": [
      "Epoch 21: 0.5492529778320424\n"
     ]
    },
    {
     "name": "stderr",
     "output_type": "stream",
     "text": [
      "100%|██████████| 8/8 [00:04<00:00,  1.94it/s, loss=0]       \n"
     ]
    },
    {
     "name": "stdout",
     "output_type": "stream",
     "text": [
      "Epoch 22: 0.4112312293113291\n"
     ]
    },
    {
     "name": "stderr",
     "output_type": "stream",
     "text": [
      "100%|██████████| 8/8 [00:03<00:00,  2.07it/s, loss=0]       \n"
     ]
    },
    {
     "name": "stdout",
     "output_type": "stream",
     "text": [
      "Epoch 23: 0.444729820684305\n"
     ]
    },
    {
     "name": "stderr",
     "output_type": "stream",
     "text": [
      "100%|██████████| 8/8 [00:03<00:00,  2.14it/s, loss=1.19e-7] \n"
     ]
    },
    {
     "name": "stdout",
     "output_type": "stream",
     "text": [
      "Epoch 24: 0.43724975983395475\n"
     ]
    },
    {
     "name": "stderr",
     "output_type": "stream",
     "text": [
      "100%|██████████| 8/8 [00:03<00:00,  2.13it/s, loss=4.41e-6] \n"
     ]
    },
    {
     "name": "stdout",
     "output_type": "stream",
     "text": [
      "Epoch 25: 0.6781935772851511\n"
     ]
    },
    {
     "name": "stderr",
     "output_type": "stream",
     "text": [
      "100%|██████████| 8/8 [00:03<00:00,  2.07it/s, loss=5.96e-8] \n"
     ]
    },
    {
     "name": "stdout",
     "output_type": "stream",
     "text": [
      "Epoch 26: 1.0192404816778484\n"
     ]
    },
    {
     "name": "stderr",
     "output_type": "stream",
     "text": [
      "100%|██████████| 8/8 [00:03<00:00,  2.10it/s, loss=1.43e-6] \n"
     ]
    },
    {
     "name": "stdout",
     "output_type": "stream",
     "text": [
      "Epoch 27: 0.4100311701341862\n"
     ]
    },
    {
     "name": "stderr",
     "output_type": "stream",
     "text": [
      "100%|██████████| 8/8 [00:03<00:00,  2.12it/s, loss=1.34e-5] \n"
     ]
    },
    {
     "name": "stdout",
     "output_type": "stream",
     "text": [
      "Epoch 28: 0.5965887465123684\n"
     ]
    },
    {
     "name": "stderr",
     "output_type": "stream",
     "text": [
      "100%|██████████| 8/8 [00:03<00:00,  2.12it/s, loss=2.15e-6] \n"
     ]
    },
    {
     "name": "stdout",
     "output_type": "stream",
     "text": [
      "Epoch 29: 0.5160801251570312\n"
     ]
    },
    {
     "name": "stderr",
     "output_type": "stream",
     "text": [
      "100%|██████████| 8/8 [00:03<00:00,  2.09it/s, loss=3.7e-6]  \n"
     ]
    },
    {
     "name": "stdout",
     "output_type": "stream",
     "text": [
      "Epoch 30: 0.7748133753576582\n"
     ]
    },
    {
     "name": "stderr",
     "output_type": "stream",
     "text": [
      "100%|██████████| 8/8 [00:03<00:00,  2.16it/s, loss=0.0147]  \n"
     ]
    },
    {
     "name": "stdout",
     "output_type": "stream",
     "text": [
      "Epoch 31: 0.6676001381813563\n"
     ]
    },
    {
     "name": "stderr",
     "output_type": "stream",
     "text": [
      "100%|██████████| 8/8 [00:03<00:00,  2.10it/s, loss=0.0821]  \n"
     ]
    },
    {
     "name": "stdout",
     "output_type": "stream",
     "text": [
      "Epoch 32: 0.7222008542491536\n"
     ]
    },
    {
     "name": "stderr",
     "output_type": "stream",
     "text": [
      "100%|██████████| 8/8 [00:03<00:00,  2.13it/s, loss=0.022]   \n"
     ]
    },
    {
     "name": "stdout",
     "output_type": "stream",
     "text": [
      "Epoch 33: 0.23199189735245157\n"
     ]
    },
    {
     "name": "stderr",
     "output_type": "stream",
     "text": [
      "100%|██████████| 8/8 [00:03<00:00,  2.04it/s, loss=0]       \n"
     ]
    },
    {
     "name": "stdout",
     "output_type": "stream",
     "text": [
      "Epoch 34: 1.5333949699591897e-05\n"
     ]
    },
    {
     "name": "stderr",
     "output_type": "stream",
     "text": [
      "100%|██████████| 8/8 [00:03<00:00,  2.05it/s, loss=0]       \n"
     ]
    },
    {
     "name": "stdout",
     "output_type": "stream",
     "text": [
      "Epoch 35: 6.766274890903645e-05\n"
     ]
    },
    {
     "name": "stderr",
     "output_type": "stream",
     "text": [
      "100%|██████████| 8/8 [00:03<00:00,  2.11it/s, loss=0]       \n"
     ]
    },
    {
     "name": "stdout",
     "output_type": "stream",
     "text": [
      "Epoch 36: 6.490343075054028e-05\n"
     ]
    },
    {
     "name": "stderr",
     "output_type": "stream",
     "text": [
      "100%|██████████| 8/8 [00:04<00:00,  1.95it/s, loss=0]      \n"
     ]
    },
    {
     "name": "stdout",
     "output_type": "stream",
     "text": [
      "Epoch 37: 6.015028483741247e-05\n"
     ]
    },
    {
     "name": "stderr",
     "output_type": "stream",
     "text": [
      "100%|██████████| 8/8 [00:04<00:00,  1.99it/s, loss=0]       \n"
     ]
    },
    {
     "name": "stdout",
     "output_type": "stream",
     "text": [
      "Epoch 38: 5.597911512662534e-05\n"
     ]
    },
    {
     "name": "stderr",
     "output_type": "stream",
     "text": [
      "100%|██████████| 8/8 [00:03<00:00,  2.03it/s, loss=0]       \n"
     ]
    },
    {
     "name": "stdout",
     "output_type": "stream",
     "text": [
      "Epoch 39: 5.232332914086868e-05\n"
     ]
    },
    {
     "name": "stderr",
     "output_type": "stream",
     "text": [
      "100%|██████████| 8/8 [00:03<00:00,  2.09it/s, loss=0]       \n"
     ]
    },
    {
     "name": "stdout",
     "output_type": "stream",
     "text": [
      "Epoch 40: 4.9083496555191175e-05\n"
     ]
    },
    {
     "name": "stderr",
     "output_type": "stream",
     "text": [
      "100%|██████████| 8/8 [00:03<00:00,  2.09it/s, loss=0]       \n"
     ]
    },
    {
     "name": "stdout",
     "output_type": "stream",
     "text": [
      "Epoch 41: 4.619434475392481e-05\n"
     ]
    },
    {
     "name": "stderr",
     "output_type": "stream",
     "text": [
      "100%|██████████| 8/8 [00:03<00:00,  2.11it/s, loss=0]       \n"
     ]
    },
    {
     "name": "stdout",
     "output_type": "stream",
     "text": [
      "Epoch 42: 4.359946178231766e-05\n"
     ]
    },
    {
     "name": "stderr",
     "output_type": "stream",
     "text": [
      "100%|██████████| 8/8 [00:03<00:00,  2.08it/s, loss=0]       \n"
     ]
    },
    {
     "name": "stdout",
     "output_type": "stream",
     "text": [
      "Epoch 43: 4.1254298407178425e-05\n"
     ]
    },
    {
     "name": "stderr",
     "output_type": "stream",
     "text": [
      "100%|██████████| 8/8 [00:03<00:00,  2.04it/s, loss=0]      \n"
     ]
    },
    {
     "name": "stdout",
     "output_type": "stream",
     "text": [
      "Epoch 44: 3.912173196658486e-05\n"
     ]
    },
    {
     "name": "stderr",
     "output_type": "stream",
     "text": [
      "100%|██████████| 8/8 [00:04<00:00,  1.98it/s, loss=0]       \n"
     ]
    },
    {
     "name": "stdout",
     "output_type": "stream",
     "text": [
      "Epoch 45: 3.717502695144148e-05\n"
     ]
    },
    {
     "name": "stderr",
     "output_type": "stream",
     "text": [
      "100%|██████████| 8/8 [00:04<00:00,  1.94it/s, loss=0]       \n"
     ]
    },
    {
     "name": "stdout",
     "output_type": "stream",
     "text": [
      "Epoch 46: 3.539041499172058e-05\n"
     ]
    },
    {
     "name": "stderr",
     "output_type": "stream",
     "text": [
      "100%|██████████| 8/8 [00:04<00:00,  1.94it/s, loss=0]       \n"
     ]
    },
    {
     "name": "stdout",
     "output_type": "stream",
     "text": [
      "Epoch 47: 3.374709412602428e-05\n"
     ]
    },
    {
     "name": "stderr",
     "output_type": "stream",
     "text": [
      "100%|██████████| 8/8 [00:04<00:00,  1.94it/s, loss=0]       \n"
     ]
    },
    {
     "name": "stdout",
     "output_type": "stream",
     "text": [
      "Epoch 48: 3.222871018371265e-05\n"
     ]
    },
    {
     "name": "stderr",
     "output_type": "stream",
     "text": [
      "100%|██████████| 8/8 [00:03<00:00,  2.09it/s, loss=0]       \n"
     ]
    },
    {
     "name": "stdout",
     "output_type": "stream",
     "text": [
      "Epoch 49: 3.0821897958244195e-05\n"
     ]
    },
    {
     "name": "stderr",
     "output_type": "stream",
     "text": [
      "100%|██████████| 8/8 [00:03<00:00,  2.04it/s, loss=0]       \n"
     ]
    },
    {
     "name": "stdout",
     "output_type": "stream",
     "text": [
      "Epoch 50: 2.951178102668095e-05\n"
     ]
    },
    {
     "name": "stderr",
     "output_type": "stream",
     "text": [
      "100%|██████████| 8/8 [00:03<00:00,  2.05it/s, loss=0]       \n"
     ]
    },
    {
     "name": "stdout",
     "output_type": "stream",
     "text": [
      "Epoch 51: 2.8289442703677282e-05\n"
     ]
    },
    {
     "name": "stderr",
     "output_type": "stream",
     "text": [
      "100%|██████████| 8/8 [00:03<00:00,  2.09it/s, loss=0]       \n"
     ]
    },
    {
     "name": "stdout",
     "output_type": "stream",
     "text": [
      "Epoch 52: 2.7147453507492257e-05\n"
     ]
    },
    {
     "name": "stderr",
     "output_type": "stream",
     "text": [
      "100%|██████████| 8/8 [00:03<00:00,  2.13it/s, loss=0]       \n"
     ]
    },
    {
     "name": "stdout",
     "output_type": "stream",
     "text": [
      "Epoch 53: 2.6079866071082593e-05\n"
     ]
    },
    {
     "name": "stderr",
     "output_type": "stream",
     "text": [
      "100%|██████████| 8/8 [00:03<00:00,  2.04it/s, loss=0]       \n"
     ]
    },
    {
     "name": "stdout",
     "output_type": "stream",
     "text": [
      "Epoch 54: 2.5076268499102382e-05\n"
     ]
    },
    {
     "name": "stderr",
     "output_type": "stream",
     "text": [
      "100%|██████████| 8/8 [00:04<00:00,  1.96it/s, loss=0]       \n"
     ]
    },
    {
     "name": "stdout",
     "output_type": "stream",
     "text": [
      "Epoch 55: 2.4130709058223233e-05\n"
     ]
    },
    {
     "name": "stderr",
     "output_type": "stream",
     "text": [
      "100%|██████████| 8/8 [00:04<00:00,  1.98it/s, loss=0]       \n"
     ]
    },
    {
     "name": "stdout",
     "output_type": "stream",
     "text": [
      "Epoch 56: 2.3240216974951265e-05\n"
     ]
    },
    {
     "name": "stderr",
     "output_type": "stream",
     "text": [
      "100%|██████████| 8/8 [00:03<00:00,  2.10it/s, loss=0]       \n"
     ]
    },
    {
     "name": "stdout",
     "output_type": "stream",
     "text": [
      "Epoch 57: 2.240033135967323e-05\n"
     ]
    },
    {
     "name": "stderr",
     "output_type": "stream",
     "text": [
      "100%|██████████| 8/8 [00:03<00:00,  2.14it/s, loss=0]       \n"
     ]
    },
    {
     "name": "stdout",
     "output_type": "stream",
     "text": [
      "Epoch 58: 2.1606586228894997e-05\n"
     ]
    },
    {
     "name": "stderr",
     "output_type": "stream",
     "text": [
      "100%|██████████| 8/8 [00:03<00:00,  2.14it/s, loss=0]       \n"
     ]
    },
    {
     "name": "stdout",
     "output_type": "stream",
     "text": [
      "Epoch 59: 2.0851540462896168e-05\n"
     ]
    },
    {
     "name": "stderr",
     "output_type": "stream",
     "text": [
      "100%|██████████| 8/8 [00:04<00:00,  1.94it/s, loss=0]       \n"
     ]
    },
    {
     "name": "stdout",
     "output_type": "stream",
     "text": [
      "Epoch 60: 2.0135197697523922e-05\n"
     ]
    },
    {
     "name": "stderr",
     "output_type": "stream",
     "text": [
      "100%|██████████| 8/8 [00:04<00:00,  1.99it/s, loss=0]       \n"
     ]
    },
    {
     "name": "stdout",
     "output_type": "stream",
     "text": [
      "Epoch 61: 1.9453092678300975e-05\n"
     ]
    },
    {
     "name": "stderr",
     "output_type": "stream",
     "text": [
      "100%|██████████| 8/8 [00:03<00:00,  2.08it/s, loss=0]       \n"
     ]
    },
    {
     "name": "stdout",
     "output_type": "stream",
     "text": [
      "Epoch 62: 1.8808206365061863e-05\n"
     ]
    },
    {
     "name": "stderr",
     "output_type": "stream",
     "text": [
      "100%|██████████| 8/8 [00:04<00:00,  1.94it/s, loss=0]       \n"
     ]
    },
    {
     "name": "stdout",
     "output_type": "stream",
     "text": [
      "Epoch 63: 1.819309436177363e-05\n"
     ]
    },
    {
     "name": "stderr",
     "output_type": "stream",
     "text": [
      "100%|██████████| 8/8 [00:04<00:00,  1.90it/s, loss=0]       \n"
     ]
    },
    {
     "name": "stdout",
     "output_type": "stream",
     "text": [
      "Epoch 64: 1.7606270917980284e-05\n"
     ]
    },
    {
     "name": "stderr",
     "output_type": "stream",
     "text": [
      "100%|██████████| 8/8 [00:03<00:00,  2.12it/s, loss=0]       \n"
     ]
    },
    {
     "name": "stdout",
     "output_type": "stream",
     "text": [
      "Epoch 65: 1.704475580126541e-05\n"
     ]
    },
    {
     "name": "stderr",
     "output_type": "stream",
     "text": [
      "100%|██████████| 8/8 [00:03<00:00,  2.07it/s, loss=0]       \n"
     ]
    },
    {
     "name": "stdout",
     "output_type": "stream",
     "text": [
      "Epoch 66: 1.6511531790541766e-05\n"
     ]
    },
    {
     "name": "stderr",
     "output_type": "stream",
     "text": [
      "100%|██████████| 8/8 [00:04<00:00,  1.96it/s, loss=0]       \n"
     ]
    },
    {
     "name": "stdout",
     "output_type": "stream",
     "text": [
      "Epoch 67: 1.5999151579393355e-05\n"
     ]
    },
    {
     "name": "stderr",
     "output_type": "stream",
     "text": [
      "100%|██████████| 8/8 [00:04<00:00,  1.99it/s, loss=0]       \n"
     ]
    },
    {
     "name": "stdout",
     "output_type": "stream",
     "text": [
      "Epoch 68: 1.5510595399348404e-05\n"
     ]
    },
    {
     "name": "stderr",
     "output_type": "stream",
     "text": [
      "100%|██████████| 8/8 [00:03<00:00,  2.00it/s, loss=0]       \n"
     ]
    },
    {
     "name": "stdout",
     "output_type": "stream",
     "text": [
      "Epoch 69: 1.5041395813852887e-05\n"
     ]
    },
    {
     "name": "stderr",
     "output_type": "stream",
     "text": [
      "100%|██████████| 8/8 [00:04<00:00,  1.93it/s, loss=0]       \n"
     ]
    },
    {
     "name": "stdout",
     "output_type": "stream",
     "text": [
      "Epoch 70: 1.4591553550502568e-05\n"
     ]
    },
    {
     "name": "stderr",
     "output_type": "stream",
     "text": [
      "100%|██████████| 8/8 [00:03<00:00,  2.04it/s, loss=0]       \n"
     ]
    },
    {
     "name": "stdout",
     "output_type": "stream",
     "text": [
      "Epoch 71: 1.4159579946948498e-05\n"
     ]
    },
    {
     "name": "stderr",
     "output_type": "stream",
     "text": [
      "100%|██████████| 8/8 [00:04<00:00,  2.00it/s, loss=0]       \n"
     ]
    },
    {
     "name": "stdout",
     "output_type": "stream",
     "text": [
      "Epoch 72: 1.3746966575212127e-05\n"
     ]
    },
    {
     "name": "stderr",
     "output_type": "stream",
     "text": [
      "100%|██████████| 8/8 [00:04<00:00,  1.99it/s, loss=0]       \n"
     ]
    },
    {
     "name": "stdout",
     "output_type": "stream",
     "text": [
      "Epoch 73: 1.334775442600744e-05\n"
     ]
    },
    {
     "name": "stderr",
     "output_type": "stream",
     "text": [
      "100%|██████████| 8/8 [00:03<00:00,  2.05it/s, loss=0]       \n"
     ]
    },
    {
     "name": "stdout",
     "output_type": "stream",
     "text": [
      "Epoch 74: 1.2964923367775327e-05\n"
     ]
    },
    {
     "name": "stderr",
     "output_type": "stream",
     "text": [
      "100%|██████████| 8/8 [00:03<00:00,  2.03it/s, loss=0]       \n"
     ]
    },
    {
     "name": "stdout",
     "output_type": "stream",
     "text": [
      "Epoch 75: 1.2596984011992163e-05\n"
     ]
    },
    {
     "name": "stderr",
     "output_type": "stream",
     "text": [
      "100%|██████████| 8/8 [00:03<00:00,  2.03it/s, loss=0]       \n"
     ]
    },
    {
     "name": "stdout",
     "output_type": "stream",
     "text": [
      "Epoch 76: 1.2243939267619907e-05\n"
     ]
    },
    {
     "name": "stderr",
     "output_type": "stream",
     "text": [
      "100%|██████████| 8/8 [00:03<00:00,  2.05it/s, loss=0]       \n"
     ]
    },
    {
     "name": "stdout",
     "output_type": "stream",
     "text": [
      "Epoch 77: 1.1904296110998302e-05\n"
     ]
    },
    {
     "name": "stderr",
     "output_type": "stream",
     "text": [
      "100%|██████████| 8/8 [00:03<00:00,  2.04it/s, loss=0]       \n"
     ]
    },
    {
     "name": "stdout",
     "output_type": "stream",
     "text": [
      "Epoch 78: 1.157507831024418e-05\n"
     ]
    },
    {
     "name": "stderr",
     "output_type": "stream",
     "text": [
      "100%|██████████| 8/8 [00:03<00:00,  2.05it/s, loss=0]       \n"
     ]
    },
    {
     "name": "stdout",
     "output_type": "stream",
     "text": [
      "Epoch 79: 1.1257774162487521e-05\n"
     ]
    },
    {
     "name": "stderr",
     "output_type": "stream",
     "text": [
      "100%|██████████| 8/8 [00:03<00:00,  2.05it/s, loss=0]       \n"
     ]
    },
    {
     "name": "stdout",
     "output_type": "stream",
     "text": [
      "Epoch 80: 1.0952385486717731e-05\n"
     ]
    },
    {
     "name": "stderr",
     "output_type": "stream",
     "text": [
      "100%|██████████| 8/8 [00:04<00:00,  1.98it/s, loss=0]       \n"
     ]
    },
    {
     "name": "stdout",
     "output_type": "stream",
     "text": [
      "Epoch 81: 1.0657421803017542e-05\n"
     ]
    },
    {
     "name": "stderr",
     "output_type": "stream",
     "text": [
      "100%|██████████| 8/8 [00:03<00:00,  2.15it/s, loss=0]       \n"
     ]
    },
    {
     "name": "stdout",
     "output_type": "stream",
     "text": [
      "Epoch 82: 1.0371394814256974e-05\n"
     ]
    },
    {
     "name": "stderr",
     "output_type": "stream",
     "text": [
      "100%|██████████| 8/8 [00:03<00:00,  2.05it/s, loss=0]       \n"
     ]
    },
    {
     "name": "stdout",
     "output_type": "stream",
     "text": [
      "Epoch 83: 1.0097284205556889e-05\n"
     ]
    },
    {
     "name": "stderr",
     "output_type": "stream",
     "text": [
      "100%|██████████| 8/8 [00:03<00:00,  2.13it/s, loss=0]       \n"
     ]
    },
    {
     "name": "stdout",
     "output_type": "stream",
     "text": [
      "Epoch 84: 9.832109201823868e-06\n"
     ]
    },
    {
     "name": "stderr",
     "output_type": "stream",
     "text": [
      "100%|██████████| 8/8 [00:03<00:00,  2.13it/s, loss=0]       \n"
     ]
    },
    {
     "name": "stdout",
     "output_type": "stream",
     "text": [
      "Epoch 85: 9.571400726926526e-06\n"
     ]
    },
    {
     "name": "stderr",
     "output_type": "stream",
     "text": [
      "100%|██████████| 8/8 [00:03<00:00,  2.13it/s, loss=0]       \n"
     ]
    },
    {
     "name": "stdout",
     "output_type": "stream",
     "text": [
      "Epoch 86: 9.325589592990013e-06\n"
     ]
    },
    {
     "name": "stderr",
     "output_type": "stream",
     "text": [
      "100%|██████████| 8/8 [00:03<00:00,  2.17it/s, loss=0]       \n"
     ]
    },
    {
     "name": "stdout",
     "output_type": "stream",
     "text": [
      "Epoch 87: 9.082755780909224e-06\n"
     ]
    },
    {
     "name": "stderr",
     "output_type": "stream",
     "text": [
      "100%|██████████| 8/8 [00:03<00:00,  2.08it/s, loss=0]       \n"
     ]
    },
    {
     "name": "stdout",
     "output_type": "stream",
     "text": [
      "Epoch 88: 8.850348234190619e-06\n"
     ]
    },
    {
     "name": "stderr",
     "output_type": "stream",
     "text": [
      "100%|██████████| 8/8 [00:03<00:00,  2.12it/s, loss=0]       \n"
     ]
    },
    {
     "name": "stdout",
     "output_type": "stream",
     "text": [
      "Epoch 89: 8.62538981145633e-06\n"
     ]
    },
    {
     "name": "stderr",
     "output_type": "stream",
     "text": [
      "100%|██████████| 8/8 [00:03<00:00,  2.10it/s, loss=0]       \n"
     ]
    },
    {
     "name": "stdout",
     "output_type": "stream",
     "text": [
      "Epoch 90: 8.407877968963362e-06\n"
     ]
    },
    {
     "name": "stderr",
     "output_type": "stream",
     "text": [
      "100%|██████████| 8/8 [00:03<00:00,  2.05it/s, loss=0]       \n"
     ]
    },
    {
     "name": "stdout",
     "output_type": "stream",
     "text": [
      "Epoch 91: 8.19632477195853e-06\n"
     ]
    },
    {
     "name": "stderr",
     "output_type": "stream",
     "text": [
      "100%|██████████| 8/8 [00:03<00:00,  2.06it/s, loss=0]       \n"
     ]
    },
    {
     "name": "stdout",
     "output_type": "stream",
     "text": [
      "Epoch 92: 7.990729492846072e-06\n"
     ]
    },
    {
     "name": "stderr",
     "output_type": "stream",
     "text": [
      "100%|██████████| 8/8 [00:03<00:00,  2.12it/s, loss=0]       \n"
     ]
    },
    {
     "name": "stdout",
     "output_type": "stream",
     "text": [
      "Epoch 93: 7.792581883947492e-06\n"
     ]
    },
    {
     "name": "stderr",
     "output_type": "stream",
     "text": [
      "100%|██████████| 8/8 [00:03<00:00,  2.12it/s, loss=0]       \n"
     ]
    },
    {
     "name": "stdout",
     "output_type": "stream",
     "text": [
      "Epoch 94: 7.598903168215543e-06\n"
     ]
    },
    {
     "name": "stderr",
     "output_type": "stream",
     "text": [
      "100%|██████████| 8/8 [00:03<00:00,  2.16it/s, loss=0]      \n"
     ]
    },
    {
     "name": "stdout",
     "output_type": "stream",
     "text": [
      "Epoch 95: 7.412672848872148e-06\n"
     ]
    },
    {
     "name": "stderr",
     "output_type": "stream",
     "text": [
      "100%|██████████| 8/8 [00:03<00:00,  2.01it/s, loss=0]       \n"
     ]
    },
    {
     "name": "stdout",
     "output_type": "stream",
     "text": [
      "Epoch 96: 7.23091124221753e-06\n"
     ]
    },
    {
     "name": "stderr",
     "output_type": "stream",
     "text": [
      "100%|██████████| 8/8 [00:03<00:00,  2.02it/s, loss=0]      \n"
     ]
    },
    {
     "name": "stdout",
     "output_type": "stream",
     "text": [
      "Epoch 97: 7.055107917253167e-06\n"
     ]
    },
    {
     "name": "stderr",
     "output_type": "stream",
     "text": [
      "100%|██████████| 8/8 [00:04<00:00,  1.95it/s, loss=0]       \n"
     ]
    },
    {
     "name": "stdout",
     "output_type": "stream",
     "text": [
      "Epoch 98: 6.8837734854554355e-06\n"
     ]
    },
    {
     "name": "stderr",
     "output_type": "stream",
     "text": [
      "100%|██████████| 8/8 [00:03<00:00,  2.04it/s, loss=0]      \n"
     ]
    },
    {
     "name": "stdout",
     "output_type": "stream",
     "text": [
      "Epoch 99: 6.718397517246899e-06\n"
     ]
    },
    {
     "name": "stderr",
     "output_type": "stream",
     "text": [
      "100%|██████████| 8/8 [00:03<00:00,  2.03it/s, loss=0]       "
     ]
    },
    {
     "name": "stdout",
     "output_type": "stream",
     "text": [
      "Epoch 100: 6.5574911669585845e-06\n"
     ]
    },
    {
     "name": "stderr",
     "output_type": "stream",
     "text": [
      "\n"
     ]
    }
   ],
   "source": [
    "NUM_EPOCHS = 100\n",
    "EMBEDDING_LENGTH = 100\n",
    "model = Classifier(vocabulary_size, train_x.shape[1], EMBEDDING_LENGTH, train_y.shape[1]).to(DEVICE)\n",
    "optimizer = torch.optim.Adam(model.parameters())\n",
    "criterion = nn.BCEWithLogitsLoss()\n",
    "\n",
    "for i in range(NUM_EPOCHS):\n",
    "    ave_loss = train_fn(loader, model, optimizer, criterion, device=DEVICE)\n",
    "    print(f'Epoch {i+1}: {ave_loss}')"
   ]
  },
  {
   "cell_type": "code",
   "execution_count": 14,
   "metadata": {},
   "outputs": [],
   "source": [
    "### TODO\n",
    "# change NUM_EPOCHS to 100 and run it! \n",
    "# note if you do not have a CUDA gpu or a CUDA installation of torch it might take long\n",
    "# and you would have to change cell 2 to DEVICE = \"cpu\"\n",
    "# the model needs to be trained first so we can evaluate it for number 4!"
   ]
  },
  {
   "cell_type": "markdown",
   "metadata": {},
   "source": [
    "# Refactoring Aly's code to use sklearn"
   ]
  },
  {
   "cell_type": "code",
   "execution_count": 15,
   "metadata": {},
   "outputs": [
    {
     "ename": "RuntimeError",
     "evalue": "The size of tensor a (1524) must match the size of tensor b (1522) at non-singleton dimension 1",
     "output_type": "error",
     "traceback": [
      "\u001b[0;31m---------------------------------------------------------------------------\u001b[0m",
      "\u001b[0;31mRuntimeError\u001b[0m                              Traceback (most recent call last)",
      "Cell \u001b[0;32mIn[15], line 10\u001b[0m\n\u001b[1;32m      8\u001b[0m \u001b[38;5;66;03m# Make predictions on testing data\u001b[39;00m\n\u001b[1;32m      9\u001b[0m \u001b[38;5;28;01mwith\u001b[39;00m torch\u001b[38;5;241m.\u001b[39mno_grad():\n\u001b[0;32m---> 10\u001b[0m     predictions \u001b[38;5;241m=\u001b[39m model(test_tensor)\n\u001b[1;32m     12\u001b[0m \u001b[38;5;66;03m# Convert predictions to numpy array\u001b[39;00m\n\u001b[1;32m     13\u001b[0m predictions_np \u001b[38;5;241m=\u001b[39m predictions\u001b[38;5;241m.\u001b[39mcpu()\u001b[38;5;241m.\u001b[39mnumpy()\n",
      "File \u001b[0;32m~/anaconda3/lib/python3.11/site-packages/torch/nn/modules/module.py:1511\u001b[0m, in \u001b[0;36mModule._wrapped_call_impl\u001b[0;34m(self, *args, **kwargs)\u001b[0m\n\u001b[1;32m   1509\u001b[0m     \u001b[38;5;28;01mreturn\u001b[39;00m \u001b[38;5;28mself\u001b[39m\u001b[38;5;241m.\u001b[39m_compiled_call_impl(\u001b[38;5;241m*\u001b[39margs, \u001b[38;5;241m*\u001b[39m\u001b[38;5;241m*\u001b[39mkwargs)  \u001b[38;5;66;03m# type: ignore[misc]\u001b[39;00m\n\u001b[1;32m   1510\u001b[0m \u001b[38;5;28;01melse\u001b[39;00m:\n\u001b[0;32m-> 1511\u001b[0m     \u001b[38;5;28;01mreturn\u001b[39;00m \u001b[38;5;28mself\u001b[39m\u001b[38;5;241m.\u001b[39m_call_impl(\u001b[38;5;241m*\u001b[39margs, \u001b[38;5;241m*\u001b[39m\u001b[38;5;241m*\u001b[39mkwargs)\n",
      "File \u001b[0;32m~/anaconda3/lib/python3.11/site-packages/torch/nn/modules/module.py:1520\u001b[0m, in \u001b[0;36mModule._call_impl\u001b[0;34m(self, *args, **kwargs)\u001b[0m\n\u001b[1;32m   1515\u001b[0m \u001b[38;5;66;03m# If we don't have any hooks, we want to skip the rest of the logic in\u001b[39;00m\n\u001b[1;32m   1516\u001b[0m \u001b[38;5;66;03m# this function, and just call forward.\u001b[39;00m\n\u001b[1;32m   1517\u001b[0m \u001b[38;5;28;01mif\u001b[39;00m \u001b[38;5;129;01mnot\u001b[39;00m (\u001b[38;5;28mself\u001b[39m\u001b[38;5;241m.\u001b[39m_backward_hooks \u001b[38;5;129;01mor\u001b[39;00m \u001b[38;5;28mself\u001b[39m\u001b[38;5;241m.\u001b[39m_backward_pre_hooks \u001b[38;5;129;01mor\u001b[39;00m \u001b[38;5;28mself\u001b[39m\u001b[38;5;241m.\u001b[39m_forward_hooks \u001b[38;5;129;01mor\u001b[39;00m \u001b[38;5;28mself\u001b[39m\u001b[38;5;241m.\u001b[39m_forward_pre_hooks\n\u001b[1;32m   1518\u001b[0m         \u001b[38;5;129;01mor\u001b[39;00m _global_backward_pre_hooks \u001b[38;5;129;01mor\u001b[39;00m _global_backward_hooks\n\u001b[1;32m   1519\u001b[0m         \u001b[38;5;129;01mor\u001b[39;00m _global_forward_hooks \u001b[38;5;129;01mor\u001b[39;00m _global_forward_pre_hooks):\n\u001b[0;32m-> 1520\u001b[0m     \u001b[38;5;28;01mreturn\u001b[39;00m forward_call(\u001b[38;5;241m*\u001b[39margs, \u001b[38;5;241m*\u001b[39m\u001b[38;5;241m*\u001b[39mkwargs)\n\u001b[1;32m   1522\u001b[0m \u001b[38;5;28;01mtry\u001b[39;00m:\n\u001b[1;32m   1523\u001b[0m     result \u001b[38;5;241m=\u001b[39m \u001b[38;5;28;01mNone\u001b[39;00m\n",
      "Cell \u001b[0;32mIn[10], line 14\u001b[0m, in \u001b[0;36mClassifier.forward\u001b[0;34m(self, x)\u001b[0m\n\u001b[1;32m     13\u001b[0m \u001b[38;5;28;01mdef\u001b[39;00m \u001b[38;5;21mforward\u001b[39m(\u001b[38;5;28mself\u001b[39m, x):\n\u001b[0;32m---> 14\u001b[0m     x \u001b[38;5;241m=\u001b[39m \u001b[38;5;28mself\u001b[39m\u001b[38;5;241m.\u001b[39mbody(x)\n\u001b[1;32m     15\u001b[0m     x \u001b[38;5;241m=\u001b[39m x\u001b[38;5;241m.\u001b[39mview(\u001b[38;5;241m-\u001b[39m\u001b[38;5;241m1\u001b[39m)\n\u001b[1;32m     16\u001b[0m     x \u001b[38;5;241m=\u001b[39m \u001b[38;5;28mself\u001b[39m\u001b[38;5;241m.\u001b[39mhead(x)\n",
      "File \u001b[0;32m~/anaconda3/lib/python3.11/site-packages/torch/nn/modules/module.py:1511\u001b[0m, in \u001b[0;36mModule._wrapped_call_impl\u001b[0;34m(self, *args, **kwargs)\u001b[0m\n\u001b[1;32m   1509\u001b[0m     \u001b[38;5;28;01mreturn\u001b[39;00m \u001b[38;5;28mself\u001b[39m\u001b[38;5;241m.\u001b[39m_compiled_call_impl(\u001b[38;5;241m*\u001b[39margs, \u001b[38;5;241m*\u001b[39m\u001b[38;5;241m*\u001b[39mkwargs)  \u001b[38;5;66;03m# type: ignore[misc]\u001b[39;00m\n\u001b[1;32m   1510\u001b[0m \u001b[38;5;28;01melse\u001b[39;00m:\n\u001b[0;32m-> 1511\u001b[0m     \u001b[38;5;28;01mreturn\u001b[39;00m \u001b[38;5;28mself\u001b[39m\u001b[38;5;241m.\u001b[39m_call_impl(\u001b[38;5;241m*\u001b[39margs, \u001b[38;5;241m*\u001b[39m\u001b[38;5;241m*\u001b[39mkwargs)\n",
      "File \u001b[0;32m~/anaconda3/lib/python3.11/site-packages/torch/nn/modules/module.py:1520\u001b[0m, in \u001b[0;36mModule._call_impl\u001b[0;34m(self, *args, **kwargs)\u001b[0m\n\u001b[1;32m   1515\u001b[0m \u001b[38;5;66;03m# If we don't have any hooks, we want to skip the rest of the logic in\u001b[39;00m\n\u001b[1;32m   1516\u001b[0m \u001b[38;5;66;03m# this function, and just call forward.\u001b[39;00m\n\u001b[1;32m   1517\u001b[0m \u001b[38;5;28;01mif\u001b[39;00m \u001b[38;5;129;01mnot\u001b[39;00m (\u001b[38;5;28mself\u001b[39m\u001b[38;5;241m.\u001b[39m_backward_hooks \u001b[38;5;129;01mor\u001b[39;00m \u001b[38;5;28mself\u001b[39m\u001b[38;5;241m.\u001b[39m_backward_pre_hooks \u001b[38;5;129;01mor\u001b[39;00m \u001b[38;5;28mself\u001b[39m\u001b[38;5;241m.\u001b[39m_forward_hooks \u001b[38;5;129;01mor\u001b[39;00m \u001b[38;5;28mself\u001b[39m\u001b[38;5;241m.\u001b[39m_forward_pre_hooks\n\u001b[1;32m   1518\u001b[0m         \u001b[38;5;129;01mor\u001b[39;00m _global_backward_pre_hooks \u001b[38;5;129;01mor\u001b[39;00m _global_backward_hooks\n\u001b[1;32m   1519\u001b[0m         \u001b[38;5;129;01mor\u001b[39;00m _global_forward_hooks \u001b[38;5;129;01mor\u001b[39;00m _global_forward_pre_hooks):\n\u001b[0;32m-> 1520\u001b[0m     \u001b[38;5;28;01mreturn\u001b[39;00m forward_call(\u001b[38;5;241m*\u001b[39margs, \u001b[38;5;241m*\u001b[39m\u001b[38;5;241m*\u001b[39mkwargs)\n\u001b[1;32m   1522\u001b[0m \u001b[38;5;28;01mtry\u001b[39;00m:\n\u001b[1;32m   1523\u001b[0m     result \u001b[38;5;241m=\u001b[39m \u001b[38;5;28;01mNone\u001b[39;00m\n",
      "Cell \u001b[0;32mIn[8], line 38\u001b[0m, in \u001b[0;36mTransformerModule.forward\u001b[0;34m(self, x)\u001b[0m\n\u001b[1;32m     35\u001b[0m initial_embeddings \u001b[38;5;241m=\u001b[39m \u001b[38;5;28mself\u001b[39m\u001b[38;5;241m.\u001b[39mrelu(\u001b[38;5;28mself\u001b[39m\u001b[38;5;241m.\u001b[39membedding(x))\n\u001b[1;32m     36\u001b[0m positional_embeddings \u001b[38;5;241m=\u001b[39m torch\u001b[38;5;241m.\u001b[39mtensor(\u001b[38;5;28mself\u001b[39m\u001b[38;5;241m.\u001b[39mgen_pe(\u001b[38;5;241m1000\u001b[39m))\u001b[38;5;241m.\u001b[39mto(\u001b[38;5;28mself\u001b[39m\u001b[38;5;241m.\u001b[39mdevice)\n\u001b[0;32m---> 38\u001b[0m input_embeddings \u001b[38;5;241m=\u001b[39m torch\u001b[38;5;241m.\u001b[39madd(initial_embeddings, positional_embeddings)\n\u001b[1;32m     40\u001b[0m _ \u001b[38;5;241m=\u001b[39m torch\u001b[38;5;241m.\u001b[39mmatmul(input_embeddings, torch\u001b[38;5;241m.\u001b[39mtranspose(input_embeddings, \u001b[38;5;241m0\u001b[39m , \u001b[38;5;241m1\u001b[39m))\n\u001b[1;32m     41\u001b[0m _ \u001b[38;5;241m=\u001b[39m torch\u001b[38;5;241m.\u001b[39mdivide(_, math\u001b[38;5;241m.\u001b[39msqrt(\u001b[38;5;28mself\u001b[39m\u001b[38;5;241m.\u001b[39md_model))\n",
      "\u001b[0;31mRuntimeError\u001b[0m: The size of tensor a (1524) must match the size of tensor b (1522) at non-singleton dimension 1"
     ]
    }
   ],
   "source": [
    "# # Given the trained model, evaluate the testing data using a confusion matrix \n",
    "\n",
    "# test_tensor = torch.Tensor(test.values).to(DEVICE).long()\n",
    "\n",
    "# # Set model to evaluation mode\n",
    "# model.eval()\n",
    "\n",
    "# # Make predictions on testing data\n",
    "# with torch.no_grad():\n",
    "#     predictions = model(test_tensor) # this line raises an error\n",
    "\n",
    "# # Convert predictions to numpy array\n",
    "# predictions_np = predictions.cpu().numpy()\n",
    "\n",
    "# # Convert predicted probabilities to predicted labels\n",
    "# predicted_labels = np.argmax(predictions_np, axis=1)\n",
    "\n",
    "# # Convert true labels to numpy array\n",
    "# true_labels = test_y.iloc[:, 0].values  # Assuming the first column contains true labels\n",
    "\n",
    "# # Compute confusion matrix\n",
    "# conf_matrix = confusion_matrix(true_labels, predicted_labels)\n",
    "\n",
    "# # Print confusion matrix\n",
    "# print(\"Confusion Matrix:\")\n",
    "# print(conf_matrix)\n",
    "\n"
   ]
  }
 ],
 "metadata": {
  "kernelspec": {
   "display_name": "Python 3 (ipykernel)",
   "language": "python",
   "name": "python3"
  },
  "language_info": {
   "codemirror_mode": {
    "name": "ipython",
    "version": 3
   },
   "file_extension": ".py",
   "mimetype": "text/x-python",
   "name": "python",
   "nbconvert_exporter": "python",
   "pygments_lexer": "ipython3",
   "version": "3.11.7"
  }
 },
 "nbformat": 4,
 "nbformat_minor": 4
}
